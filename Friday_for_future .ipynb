{
 "cells": [
  {
   "cell_type": "markdown",
   "metadata": {
    "colab_type": "text",
    "id": "xDEDTGoS-nEF"
   },
   "source": [
    "## download libraries"
   ]
  },
  {
   "cell_type": "code",
   "execution_count": 1,
   "metadata": {
    "colab": {
     "base_uri": "https://localhost:8080/",
     "height": 386
    },
    "colab_type": "code",
    "executionInfo": {
     "elapsed": 13127,
     "status": "ok",
     "timestamp": 1592422155479,
     "user": {
      "displayName": "Narendrakumar Hosamani",
      "photoUrl": "",
      "userId": "07851196596534242577"
     },
     "user_tz": -120
    },
    "id": "mp_GqazZ9Jj9",
    "outputId": "6ffb2118-48e3-4478-a1cf-808667698b49"
   },
   "outputs": [
    {
     "name": "stdout",
     "output_type": "stream",
     "text": [
      "Requirement already up-to-date: emoji in c:\\users\\natha\\anaconda3\\lib\\site-packages (0.5.4)\n"
     ]
    },
    {
     "name": "stderr",
     "output_type": "stream",
     "text": [
      "[nltk_data] Downloading package stopwords to\n",
      "[nltk_data]     C:\\Users\\natha\\AppData\\Roaming\\nltk_data...\n",
      "[nltk_data]   Package stopwords is already up-to-date!\n",
      "[nltk_data] Downloading package punkt to\n",
      "[nltk_data]     C:\\Users\\natha\\AppData\\Roaming\\nltk_data...\n",
      "[nltk_data]   Package punkt is already up-to-date!\n",
      "[nltk_data] Downloading package wordnet to\n",
      "[nltk_data]     C:\\Users\\natha\\AppData\\Roaming\\nltk_data...\n",
      "[nltk_data]   Package wordnet is already up-to-date!\n",
      "[nltk_data] Downloading package sentiwordnet to\n",
      "[nltk_data]     C:\\Users\\natha\\AppData\\Roaming\\nltk_data...\n",
      "[nltk_data]   Package sentiwordnet is already up-to-date!\n",
      "[nltk_data] Downloading package averaged_perceptron_tagger to\n",
      "[nltk_data]     C:\\Users\\natha\\AppData\\Roaming\\nltk_data...\n",
      "[nltk_data]   Package averaged_perceptron_tagger is already up-to-\n",
      "[nltk_data]       date!\n"
     ]
    },
    {
     "data": {
      "text/plain": [
       "True"
      ]
     },
     "execution_count": 1,
     "metadata": {},
     "output_type": "execute_result"
    }
   ],
   "source": [
    "!pip install emoji --upgrade\n",
    "import nltk\n",
    "nltk.download('stopwords')\n",
    "nltk.download('punkt')\n",
    "nltk.download('wordnet')\n",
    "nltk.download('sentiwordnet')\n",
    "nltk.download('averaged_perceptron_tagger')"
   ]
  },
  {
   "cell_type": "markdown",
   "metadata": {
    "colab_type": "text",
    "id": "7lyA7gI_Xqr4"
   },
   "source": [
    "## Import necessary libraries for data cleaning, sentiment analysis and word embedding"
   ]
  },
  {
   "cell_type": "code",
   "execution_count": 2,
   "metadata": {
    "colab": {
     "base_uri": "https://localhost:8080/",
     "height": 70
    },
    "colab_type": "code",
    "executionInfo": {
     "elapsed": 930,
     "status": "ok",
     "timestamp": 1592422410964,
     "user": {
      "displayName": "Narendrakumar Hosamani",
      "photoUrl": "",
      "userId": "07851196596534242577"
     },
     "user_tz": -120
    },
    "id": "SENp0Deh6tiu",
    "outputId": "d1f97964-4023-44a9-f2f4-26380c71330c"
   },
   "outputs": [],
   "source": [
    "import re # for regular expressions\n",
    "import json\n",
    "import emoji\n",
    "\n",
    "import pickle\n",
    "from datetime import datetime\n",
    "\n",
    "import numpy as np\n",
    "import pandas as pd\n",
    "pd.set_option(\"display.max_colwidth\", 200)\n",
    "\n",
    "from nltk import pos_tag, sent_tokenize, word_tokenize\n",
    "from nltk.corpus import stopwords, wordnet as wn, sentiwordnet as swn\n",
    "from nltk.stem import WordNetLemmatizer\n",
    "\n",
    "import matplotlib.pyplot as plt \n",
    "import seaborn as sns\n",
    "import warnings\n",
    "warnings.filterwarnings(\"ignore\")\n",
    "\n",
    "%matplotlib inline"
   ]
  },
  {
   "cell_type": "code",
   "execution_count": 3,
   "metadata": {
    "colab": {
     "base_uri": "https://localhost:8080/",
     "height": 34
    },
    "colab_type": "code",
    "executionInfo": {
     "elapsed": 2421,
     "status": "ok",
     "timestamp": 1592422428935,
     "user": {
      "displayName": "Narendrakumar Hosamani",
      "photoUrl": "",
      "userId": "07851196596534242577"
     },
     "user_tz": -120
    },
    "id": "hHt5iGNGuA0L",
    "outputId": "8f12b2b0-fd1a-4972-94d5-850d7502ec9e"
   },
   "outputs": [
    {
     "name": "stdout",
     "output_type": "stream",
     "text": [
      "[WinError 3] The system cannot find the path specified: '/content/drive/My Drive/dataScience/projects/twitterSentimentAnalysis/dataset'\n",
      "C:\\Users\\natha\\Downloads\\Advanced Project\n"
     ]
    }
   ],
   "source": [
    "%cd \"/content/drive/My Drive/dataScience/projects/twitterSentimentAnalysis/dataset\"\n",
    "# !pwd"
   ]
  },
  {
   "cell_type": "markdown",
   "metadata": {
    "colab_type": "text",
    "id": "qdualDrQYEB1"
   },
   "source": [
    "## Define dictionary for contractions of words\n",
    "\n"
   ]
  },
  {
   "cell_type": "code",
   "execution_count": 4,
   "metadata": {
    "colab": {},
    "colab_type": "code",
    "executionInfo": {
     "elapsed": 811,
     "status": "ok",
     "timestamp": 1592422679560,
     "user": {
      "displayName": "Narendrakumar Hosamani",
      "photoUrl": "",
      "userId": "07851196596534242577"
     },
     "user_tz": -120
    },
    "id": "IAN6Ouc-7UGO"
   },
   "outputs": [],
   "source": [
    "# Dictionary of contarctions. source for contractions: https://en.wikipedia.org/wiki/Contraction_%28grammar%29\n",
    "contractions_dict = {\n",
    "        \"ain't\":\"is not\",\n",
    "        \"amn't\":\"am not\",\n",
    "        \"aren't\":\"are not\",\n",
    "        \"can't\":\"cannot\",\n",
    "        \"'cause\":\"because\",\n",
    "        \"couldn't\":\"could not\",\n",
    "        \"couldn't've\":\"could not have\",\n",
    "        \"could've\":\"could have\",\n",
    "        \"daren't\":\"dare not\",\n",
    "        \"daresn't\":\"dare not\",\n",
    "        \"dasn't\":\"dare not\",\n",
    "        \"didn't\":\"did not\",\n",
    "        \"doesn't\":\"does not\",\n",
    "        \"don't\":\"do not\",\n",
    "        \"e'er\":\"ever\",\n",
    "        \"em\":\"them\",\n",
    "        \"everyone's\":\"everyone is\",\n",
    "        \"finna\":\"fixing to\",\n",
    "        \"gimme\":\"give me\",\n",
    "        \"gonna\":\"going to\",\n",
    "        \"gon't\":\"go not\",\n",
    "        \"gotta\":\"got to\",\n",
    "        \"hadn't\":\"had not\",\n",
    "        \"hasn't\":\"has not\",\n",
    "        \"haven't\":\"have not\",\n",
    "        \"he'd\":\"he would\",\n",
    "        \"he'll\":\"he will\",\n",
    "        \"he's\":\"he is\",\n",
    "        \"he've\":\"he have\",\n",
    "        \"how'd\":\"how would\",\n",
    "        \"how'll\":\"how will\",\n",
    "        \"how're\":\"how are\",\n",
    "        \"how's\":\"how is\",\n",
    "        \"I'd\":\"I would\",\n",
    "        \"I'll\":\"I will\",\n",
    "        \"I'm\":\"I am\",\n",
    "        \"I'm'a\":\"I am about to\",\n",
    "        \"I'm'o\":\"I am going to\",\n",
    "        \"isn't\":\"is not\",\n",
    "        \"it'd\":\"it would\",\n",
    "        \"it'll\":\"it will\",\n",
    "        \"it's\":\"it is\",\n",
    "        \"I've\":\"I have\",\n",
    "        \"kinda\":\"kind of\",\n",
    "        \"let's\":\"let us\",\n",
    "        \"mayn't\":\"may not\",\n",
    "        \"may've\":\"may have\",\n",
    "        \"mightn't\":\"might not\",\n",
    "        \"might've\":\"might have\",\n",
    "        \"mustn't\":\"must not\",\n",
    "        \"mustn't've\":\"must not have\",\n",
    "        \"must've\":\"must have\",\n",
    "        \"needn't\":\"need not\",\n",
    "        \"ne'er\":\"never\",\n",
    "        \"o'\":\"of\",\n",
    "        \"o'er\":\"over\",\n",
    "        \"ol'\":\"old\",\n",
    "        \"oughtn't\":\"ought not\",\n",
    "        \"shalln't\":\"shall not\",\n",
    "        \"shan't\":\"shall not\",\n",
    "        \"she'd\":\"she would\",\n",
    "        \"she'll\":\"she will\",\n",
    "        \"she's\":\"she is\",\n",
    "        \"shouldn't\":\"should not\",\n",
    "        \"shouldn't've\":\"should not have\",\n",
    "        \"should've\":\"should have\",\n",
    "        \"somebody's\":\"somebody is\",\n",
    "        \"someone's\":\"someone is\",\n",
    "        \"something's\":\"something is\",\n",
    "        \"that'd\":\"that would\",\n",
    "        \"that'll\":\"that will\",\n",
    "        \"that're\":\"that are\",\n",
    "        \"that's\":\"that is\",\n",
    "        \"there'd\":\"there would\",\n",
    "        \"there'll\":\"there will\",\n",
    "        \"there're\":\"there are\",\n",
    "        \"there's\":\"there is\",\n",
    "        \"these're\":\"these are\",\n",
    "        \"they'd\":\"they would\",\n",
    "        \"they'll\":\"they will\",\n",
    "        \"they're\":\"they are\",\n",
    "        \"they've\":\"they have\",\n",
    "        \"this's\":\"this is\",\n",
    "        \"those're\":\"those are\",\n",
    "        \"'tis\":\"it is\",\n",
    "        \"'twas\":\"it was\",\n",
    "        \"wanna\":\"want to\",\n",
    "        \"wasn't\":\"was not\",\n",
    "        \"we'd\":\"we would\",\n",
    "        \"we'd've\":\"we would have\",\n",
    "        \"we'll\":\"we will\",\n",
    "        \"we're\":\"we are\",\n",
    "        \"weren't\":\"were not\",\n",
    "        \"we've\":\"we have\",\n",
    "        \"what'd\":\"what did\",\n",
    "        \"what'll\":\"what will\",\n",
    "        \"what're\":\"what are\",\n",
    "        \"what's\":\"what is\",\n",
    "        \"what've\":\"what have\",\n",
    "        \"when's\":\"when is\",\n",
    "        \"where'd\":\"where did\",\n",
    "        \"where're\":\"where are\",\n",
    "        \"where's\":\"where is\",\n",
    "        \"where've\":\"where have\",\n",
    "        \"which's\":\"which is\",\n",
    "        \"who'd\":\"who would\",\n",
    "        \"who'd've\":\"who would have\",\n",
    "        \"who'll\":\"who will\",\n",
    "        \"who're\":\"who are\",\n",
    "        \"who's\":\"who is\",\n",
    "        \"who've\":\"who have\",\n",
    "        \"why'd\":\"why did\",\n",
    "        \"why're\":\"why are\",\n",
    "        \"why's\":\"why is\",\n",
    "        \"won't\":\"will not\",\n",
    "        \"wouldn't\":\"would not\",\n",
    "        \"would've\":\"would have\",\n",
    "        \"y'all\":\"you all\",\n",
    "        \"you'd\":\"you would\",\n",
    "        \"you'll\":\"you will\",\n",
    "        \"you're\":\"you are\",\n",
    "        \"you've\":\"you have\"\n",
    "        }"
   ]
  },
  {
   "cell_type": "markdown",
   "metadata": {
    "colab_type": "text",
    "id": "7_El7jaNYXcb"
   },
   "source": [
    "##Read json formatted raw data as a DataFrame\n",
    "\n",
    "> Indented block\n",
    "\n"
   ]
  },
  {
   "cell_type": "code",
   "execution_count": 5,
   "metadata": {
    "colab": {
     "base_uri": "https://localhost:8080/",
     "height": 34
    },
    "colab_type": "code",
    "executionInfo": {
     "elapsed": 4928,
     "status": "ok",
     "timestamp": 1592422687955,
     "user": {
      "displayName": "Narendrakumar Hosamani",
      "photoUrl": "",
      "userId": "07851196596534242577"
     },
     "user_tz": -120
    },
    "id": "XPOGU3Cb6jjd",
    "outputId": "edac8f46-ce4c-4cab-b9bb-2d4a0e2c7342"
   },
   "outputs": [
    {
     "name": "stdout",
     "output_type": "stream",
     "text": [
      "Executed Successfully\n"
     ]
    }
   ],
   "source": [
    "# Input data files are available in the \"dataset/\" directory.\n",
    "# Read the input raw data and parse only the necessary columns from the json file.\n",
    "\n",
    "def populate_tweet_df(tweets):\n",
    "    \"\"\"\n",
    "    This function takes tweets list as argument and returns a dataframe of the tweets.\n",
    "    \"\"\"\n",
    "    df = pd.DataFrame()\n",
    "    df['date'] = [datetime.strptime(tweet['created_at'],'%a %b %d %H:%M:%S %z %Y') for tweet in tweets if (tweet['lang'] == 'en')]\n",
    "    df['text'] = [tweet['text'] for tweet in tweets if (tweet['lang'] == 'en')]\n",
    "    # df['text'] = list(map(lambda tweet:tweet['text'], filter(lambda tweet: tweet['lang']=='en', tweets)))\n",
    "    return df\n",
    "\n",
    "if __name__ == '__main__':\n",
    "    tweet_file1 = (\"tweets_fridaysforfuture_09-03-2020.txt\")\n",
    "    tweets = []\n",
    "    with open(tweet_file1, 'r') as file:\n",
    "        for line in file.readlines():\n",
    "            tweets.append(json.loads(line))\n",
    "    \n",
    "    tweet_file2 = (\"tweets_fridaysforfuture_20-04-2020.txt\")\n",
    "    with open(tweet_file2, 'r') as file:\n",
    "        for line in file.readlines():\n",
    "            tweets.append(json.loads(line))\n",
    "\n",
    "    tweets_df = populate_tweet_df(tweets)\n",
    "    print(\"Executed Successfully\")\n"
   ]
  },
  {
   "cell_type": "code",
   "execution_count": 6,
   "metadata": {
    "colab": {
     "base_uri": "https://localhost:8080/",
     "height": 195
    },
    "colab_type": "code",
    "executionInfo": {
     "elapsed": 505,
     "status": "ok",
     "timestamp": 1592400239336,
     "user": {
      "displayName": "Narendrakumar Hosamani",
      "photoUrl": "",
      "userId": "07851196596534242577"
     },
     "user_tz": -120
    },
    "id": "DpSJiYfeYoVB",
    "outputId": "ae858b04-1b6d-4371-901a-7c8ea06f89f2"
   },
   "outputs": [
    {
     "data": {
      "text/html": [
       "<div>\n",
       "<style scoped>\n",
       "    .dataframe tbody tr th:only-of-type {\n",
       "        vertical-align: middle;\n",
       "    }\n",
       "\n",
       "    .dataframe tbody tr th {\n",
       "        vertical-align: top;\n",
       "    }\n",
       "\n",
       "    .dataframe thead th {\n",
       "        text-align: right;\n",
       "    }\n",
       "</style>\n",
       "<table border=\"1\" class=\"dataframe\">\n",
       "  <thead>\n",
       "    <tr style=\"text-align: right;\">\n",
       "      <th></th>\n",
       "      <th>date</th>\n",
       "      <th>text</th>\n",
       "    </tr>\n",
       "  </thead>\n",
       "  <tbody>\n",
       "    <tr>\n",
       "      <th>0</th>\n",
       "      <td>2020-03-09 13:50:23+00:00</td>\n",
       "      <td>RT @WantMyMoneyBac: @love4thegameAK Muslim Brothhood written goal is to infiltrate from within. Thanks Obama.\\n\\nBest 4 minutes you’ll spend…</td>\n",
       "    </tr>\n",
       "    <tr>\n",
       "      <th>1</th>\n",
       "      <td>2020-03-09 13:50:12+00:00</td>\n",
       "      <td>RT @RebeccaH2020: We chose @GretaThunberg because she stands up for what she believes\\nChildren at a Yorkshire school chose the \"inspiring\"…</td>\n",
       "    </tr>\n",
       "    <tr>\n",
       "      <th>2</th>\n",
       "      <td>2020-03-09 13:49:34+00:00</td>\n",
       "      <td>RT @RebeccaH2020: We chose @GretaThunberg because she stands up for what she believes\\nChildren at a Yorkshire school chose the \"inspiring\"…</td>\n",
       "    </tr>\n",
       "    <tr>\n",
       "      <th>3</th>\n",
       "      <td>2020-03-09 13:48:00+00:00</td>\n",
       "      <td>RT @WantMyMoneyBac: @love4thegameAK Muslim Brothhood written goal is to infiltrate from within. Thanks Obama.\\n\\nBest 4 minutes you’ll spend…</td>\n",
       "    </tr>\n",
       "    <tr>\n",
       "      <th>4</th>\n",
       "      <td>2020-03-09 13:47:15+00:00</td>\n",
       "      <td>RT @CAREGlobal: \"The climate crisis has a female face.\\n\\nAs a woman from Africa, I am often oppressed by racism, sexism, culture, classism,…</td>\n",
       "    </tr>\n",
       "  </tbody>\n",
       "</table>\n",
       "</div>"
      ],
      "text/plain": [
       "                       date  \\\n",
       "0 2020-03-09 13:50:23+00:00   \n",
       "1 2020-03-09 13:50:12+00:00   \n",
       "2 2020-03-09 13:49:34+00:00   \n",
       "3 2020-03-09 13:48:00+00:00   \n",
       "4 2020-03-09 13:47:15+00:00   \n",
       "\n",
       "                                                                                                                                            text  \n",
       "0  RT @WantMyMoneyBac: @love4thegameAK Muslim Brothhood written goal is to infiltrate from within. Thanks Obama.\\n\\nBest 4 minutes you’ll spend…  \n",
       "1   RT @RebeccaH2020: We chose @GretaThunberg because she stands up for what she believes\\nChildren at a Yorkshire school chose the \"inspiring\"…  \n",
       "2   RT @RebeccaH2020: We chose @GretaThunberg because she stands up for what she believes\\nChildren at a Yorkshire school chose the \"inspiring\"…  \n",
       "3  RT @WantMyMoneyBac: @love4thegameAK Muslim Brothhood written goal is to infiltrate from within. Thanks Obama.\\n\\nBest 4 minutes you’ll spend…  \n",
       "4  RT @CAREGlobal: \"The climate crisis has a female face.\\n\\nAs a woman from Africa, I am often oppressed by racism, sexism, culture, classism,…  "
      ]
     },
     "execution_count": 6,
     "metadata": {},
     "output_type": "execute_result"
    }
   ],
   "source": [
    "tweets_df.head()"
   ]
  },
  {
   "cell_type": "markdown",
   "metadata": {
    "colab_type": "text",
    "id": "ryZOYSkXZ_pJ"
   },
   "source": [
    "##Data Cleaning"
   ]
  },
  {
   "cell_type": "code",
   "execution_count": 7,
   "metadata": {
    "colab": {
     "base_uri": "https://localhost:8080/",
     "height": 34
    },
    "colab_type": "code",
    "executionInfo": {
     "elapsed": 27898,
     "status": "ok",
     "timestamp": 1592422719136,
     "user": {
      "displayName": "Narendrakumar Hosamani",
      "photoUrl": "",
      "userId": "07851196596534242577"
     },
     "user_tz": -120
    },
    "id": "rxZ8Lr1l6jT-",
    "outputId": "d228869b-1dfa-4204-9ad4-78c461bc63c4"
   },
   "outputs": [
    {
     "name": "stdout",
     "output_type": "stream",
     "text": [
      "Executed Successfully\n"
     ]
    }
   ],
   "source": [
    "# Setting stopwords\n",
    "all_stopwords = set(stopwords.words('english'))\n",
    "exclude_stopwords = ['no', 'not']\n",
    "for sw in exclude_stopwords:\n",
    "    all_stopwords.remove(sw)\n",
    "\n",
    "# Initializing Lemmatizer\n",
    "lemmatizer = WordNetLemmatizer()\n",
    "\n",
    "def toLowerCase(text):\n",
    "    '''\n",
    "    Returns the text in lowercase.\n",
    "    '''\n",
    "    return text.lower()\n",
    "\n",
    "\n",
    "def removeUrls(text):\n",
    "    # return re.sub('((www\\.[^\\s]+)|(https?://[^\\s]+))','', text)\n",
    "    return re.sub(r'(https|http)?:\\/\\/(\\w|\\.|\\/|\\?|\\=|\\&|\\%)*\\b','', text)\n",
    "\n",
    "def removeSpecialChar(text):\n",
    "    '''\n",
    "    Removes special characters which are generally found in tweets.\n",
    "    '''\n",
    "    # Convert @username to empty strings\n",
    "    text = re.sub('@[^\\s]+', '', text)\n",
    "\n",
    "    # Remove 'RT' from retweets\n",
    "    text = re.sub(r'\\brt\\b', '', text)\n",
    "\n",
    "    # Remove additional white spaces\n",
    "    text = re.sub('[\\s]+', ' ', text)\n",
    "\n",
    "    # Replace #hastags with word\n",
    "    text = re.sub(r'#([^\\s]+)', r'\\1', text)\n",
    "\n",
    "    # Trims the tweet\n",
    "    text = text.strip('\\'\"')\n",
    "\n",
    "    return text\n",
    "\n",
    "\n",
    "def removeNonAlpha(text):\n",
    "    '''\n",
    "    Remove all characters which are not alphabets, numbers or whitespaces.\n",
    "    '''\n",
    "    return re.sub('[^A-Za-z0-9 ]+', '', text)\n",
    "\n",
    "\n",
    "def removeStopWords(text):\n",
    "    # Remove stop words using NLTK's list of stop words in the corpus module. \n",
    "    tokens_without_sw = [word for word in word_tokenize(text) if not word in all_stopwords]\n",
    "\n",
    "    return (tokens_without_sw)\n",
    "\n",
    "\n",
    "def handleEmojis(text):\n",
    "    '''\n",
    "    This function handles sentiments expressed through emoticons by using Python's 'emoji package'.\n",
    "    Replace all emoticons with the expression they represent in plain English.\n",
    "    '''\n",
    "    text = emoji.demojize(text)\n",
    "    text = text.replace(\":\",\" \")\n",
    "    text = text.replace(\"_\",\" \")\n",
    "    text = ' '.join(text.split())\n",
    "    return text\n",
    "\n",
    "\n",
    "def handleContractions(text):\n",
    "    '''\n",
    "    expand shortened words, e.g. convert \"don't\" to \"do not\"\n",
    "    '''\n",
    "    contracted_tokens = [contractions_dict[word] if word in contractions_dict else word for word in word_tokenize(text)]\n",
    "    return \" \".join(contracted_tokens)\n",
    "\n",
    "\n",
    "def get_wordnet_pos(word):\n",
    "    '''\n",
    "    Map POS tag to the format wordnet lemmatizer would accept. Returning 'NOUN' as default tag.\n",
    "    ADJ: adjective,    ADP: adposition,    ADV: adverb,    CONJ: conjunction\t\n",
    "    DET: determiner,article,    NOUN: noun,    NUM: numeral,    PRT: particle\n",
    "    PRON: pronoun,    VERB: verb,    .: punctuation marks\t. , ; !,    X: other\t\n",
    "    '''\n",
    "    tag = pos_tag([word])[0][1][0].upper()\n",
    "    tag_dict = {\"J\": wn.ADJ,\n",
    "                \"N\": wn.NOUN,\n",
    "                \"V\": wn.VERB,\n",
    "                \"R\": wn.ADV}\n",
    "\n",
    "    return tag_dict.get(tag, wn.NOUN)\n",
    "\n",
    "\n",
    "def wordLemmatization(text):\n",
    "    '''\n",
    "    Lemmatizing the text with the appropriate POS tag\n",
    "    result: ['he', 'kept', 'eat', 'while', 'we', 'be', 'talk']\n",
    "    '''\n",
    "    lemma_tokens = [lemmatizer.lemmatize(word, get_wordnet_pos(word)) for word in word_tokenize(text)]\n",
    "    return \" \".join(lemma_tokens)\n",
    "\n",
    "def processTweets(tweet):\n",
    "    '''\n",
    "    Process the raw tweets and convert them into usable data for sentiment analysis. \n",
    "    '''\n",
    "    # Convert to lower case\n",
    "    tweet = toLowerCase(tweet)\n",
    "\n",
    "    # Remove urls\n",
    "    tweet = removeUrls(tweet)\n",
    "    \n",
    "    # Replacing contractions with full words\n",
    "    tweet = handleContractions(tweet)\n",
    "    \n",
    "    # Replace emoticons with word expressions\n",
    "    tweet = handleEmojis(tweet)\n",
    "    \n",
    "    # Remove all Special characters\n",
    "    tweet = removeSpecialChar(tweet)\n",
    "    \n",
    "    # Remove non alpha characters\n",
    "    tweet = removeNonAlpha(tweet)\n",
    "    \n",
    "    # converting a word to its base form\n",
    "    tweet = wordLemmatization(tweet)\n",
    "    \n",
    "    # Remove stop words\n",
    "    tweet = removeStopWords(tweet)\n",
    "\n",
    "    return tweet\n",
    "\n",
    "if __name__ == '__main__':\n",
    "    tweets = tweets_df['text']\n",
    "    processed_tweets = []\n",
    "    processed_df = pd.DataFrame(columns=['date','text','clean_text'])\n",
    "    for tweet in tweets:\n",
    "        processed_tweets.append(processTweets(tweet))\n",
    "    processed_df['date'] = tweets_df['date']\n",
    "    processed_df['text'] = tweets_df['text']\n",
    "    processed_df['clean_text'] = processed_tweets\n",
    "    print(\"Executed Successfully\")"
   ]
  },
  {
   "cell_type": "code",
   "execution_count": 8,
   "metadata": {
    "colab": {
     "base_uri": "https://localhost:8080/",
     "height": 279
    },
    "colab_type": "code",
    "executionInfo": {
     "elapsed": 464,
     "status": "ok",
     "timestamp": 1592400384227,
     "user": {
      "displayName": "Narendrakumar Hosamani",
      "photoUrl": "",
      "userId": "07851196596534242577"
     },
     "user_tz": -120
    },
    "id": "_0Pj9G5DZt5r",
    "outputId": "f643d470-f957-49ea-a6a9-a5baee1837e9"
   },
   "outputs": [
    {
     "data": {
      "text/html": [
       "<div>\n",
       "<style scoped>\n",
       "    .dataframe tbody tr th:only-of-type {\n",
       "        vertical-align: middle;\n",
       "    }\n",
       "\n",
       "    .dataframe tbody tr th {\n",
       "        vertical-align: top;\n",
       "    }\n",
       "\n",
       "    .dataframe thead th {\n",
       "        text-align: right;\n",
       "    }\n",
       "</style>\n",
       "<table border=\"1\" class=\"dataframe\">\n",
       "  <thead>\n",
       "    <tr style=\"text-align: right;\">\n",
       "      <th></th>\n",
       "      <th>date</th>\n",
       "      <th>text</th>\n",
       "      <th>clean_text</th>\n",
       "    </tr>\n",
       "  </thead>\n",
       "  <tbody>\n",
       "    <tr>\n",
       "      <th>0</th>\n",
       "      <td>2020-03-09 13:50:23+00:00</td>\n",
       "      <td>RT @WantMyMoneyBac: @love4thegameAK Muslim Brothhood written goal is to infiltrate from within. Thanks Obama.\\n\\nBest 4 minutes you’ll spend…</td>\n",
       "      <td>[wantmymoneybac, love4thegameak, muslim, brothhood, write, goal, infiltrate, within, thanks, obama, best, 4, minute, spend]</td>\n",
       "    </tr>\n",
       "    <tr>\n",
       "      <th>1</th>\n",
       "      <td>2020-03-09 13:50:12+00:00</td>\n",
       "      <td>RT @RebeccaH2020: We chose @GretaThunberg because she stands up for what she believes\\nChildren at a Yorkshire school chose the \"inspiring\"…</td>\n",
       "      <td>[rebeccah2020, chose, gretathunberg, stand, believe, child, yorkshire, school, chose, inspire]</td>\n",
       "    </tr>\n",
       "    <tr>\n",
       "      <th>2</th>\n",
       "      <td>2020-03-09 13:49:34+00:00</td>\n",
       "      <td>RT @RebeccaH2020: We chose @GretaThunberg because she stands up for what she believes\\nChildren at a Yorkshire school chose the \"inspiring\"…</td>\n",
       "      <td>[rebeccah2020, chose, gretathunberg, stand, believe, child, yorkshire, school, chose, inspire]</td>\n",
       "    </tr>\n",
       "    <tr>\n",
       "      <th>3</th>\n",
       "      <td>2020-03-09 13:48:00+00:00</td>\n",
       "      <td>RT @WantMyMoneyBac: @love4thegameAK Muslim Brothhood written goal is to infiltrate from within. Thanks Obama.\\n\\nBest 4 minutes you’ll spend…</td>\n",
       "      <td>[wantmymoneybac, love4thegameak, muslim, brothhood, write, goal, infiltrate, within, thanks, obama, best, 4, minute, spend]</td>\n",
       "    </tr>\n",
       "    <tr>\n",
       "      <th>4</th>\n",
       "      <td>2020-03-09 13:47:15+00:00</td>\n",
       "      <td>RT @CAREGlobal: \"The climate crisis has a female face.\\n\\nAs a woman from Africa, I am often oppressed by racism, sexism, culture, classism,…</td>\n",
       "      <td>[careglobal, climate, crisis, female, face, woman, africa, often, oppress, racism, sexism, culture, classism]</td>\n",
       "    </tr>\n",
       "  </tbody>\n",
       "</table>\n",
       "</div>"
      ],
      "text/plain": [
       "                       date  \\\n",
       "0 2020-03-09 13:50:23+00:00   \n",
       "1 2020-03-09 13:50:12+00:00   \n",
       "2 2020-03-09 13:49:34+00:00   \n",
       "3 2020-03-09 13:48:00+00:00   \n",
       "4 2020-03-09 13:47:15+00:00   \n",
       "\n",
       "                                                                                                                                            text  \\\n",
       "0  RT @WantMyMoneyBac: @love4thegameAK Muslim Brothhood written goal is to infiltrate from within. Thanks Obama.\\n\\nBest 4 minutes you’ll spend…   \n",
       "1   RT @RebeccaH2020: We chose @GretaThunberg because she stands up for what she believes\\nChildren at a Yorkshire school chose the \"inspiring\"…   \n",
       "2   RT @RebeccaH2020: We chose @GretaThunberg because she stands up for what she believes\\nChildren at a Yorkshire school chose the \"inspiring\"…   \n",
       "3  RT @WantMyMoneyBac: @love4thegameAK Muslim Brothhood written goal is to infiltrate from within. Thanks Obama.\\n\\nBest 4 minutes you’ll spend…   \n",
       "4  RT @CAREGlobal: \"The climate crisis has a female face.\\n\\nAs a woman from Africa, I am often oppressed by racism, sexism, culture, classism,…   \n",
       "\n",
       "                                                                                                                    clean_text  \n",
       "0  [wantmymoneybac, love4thegameak, muslim, brothhood, write, goal, infiltrate, within, thanks, obama, best, 4, minute, spend]  \n",
       "1                               [rebeccah2020, chose, gretathunberg, stand, believe, child, yorkshire, school, chose, inspire]  \n",
       "2                               [rebeccah2020, chose, gretathunberg, stand, believe, child, yorkshire, school, chose, inspire]  \n",
       "3  [wantmymoneybac, love4thegameak, muslim, brothhood, write, goal, infiltrate, within, thanks, obama, best, 4, minute, spend]  \n",
       "4                [careglobal, climate, crisis, female, face, woman, africa, often, oppress, racism, sexism, culture, classism]  "
      ]
     },
     "execution_count": 8,
     "metadata": {},
     "output_type": "execute_result"
    }
   ],
   "source": [
    "processed_df.head()"
   ]
  },
  {
   "cell_type": "markdown",
   "metadata": {
    "colab_type": "text",
    "id": "mAEhvgBpZyEF"
   },
   "source": [
    "###Save processed dataframe for easy reusability"
   ]
  },
  {
   "cell_type": "code",
   "execution_count": 9,
   "metadata": {
    "colab": {},
    "colab_type": "code",
    "executionInfo": {
     "elapsed": 15151,
     "status": "ok",
     "timestamp": 1592422719139,
     "user": {
      "displayName": "Narendrakumar Hosamani",
      "photoUrl": "",
      "userId": "07851196596534242577"
     },
     "user_tz": -120
    },
    "id": "psHIsC49kJgi"
   },
   "outputs": [],
   "source": [
    "cleaned_df = open(\"cleaned_df.pickle\",\"wb\")\n",
    "pickle.dump(processed_df, cleaned_df)"
   ]
  },
  {
   "cell_type": "code",
   "execution_count": 10,
   "metadata": {
    "colab": {},
    "colab_type": "code",
    "executionInfo": {
     "elapsed": 789,
     "status": "ok",
     "timestamp": 1592422726067,
     "user": {
      "displayName": "Narendrakumar Hosamani",
      "photoUrl": "",
      "userId": "07851196596534242577"
     },
     "user_tz": -120
    },
    "id": "qFsw4XH0vnI6"
   },
   "outputs": [],
   "source": [
    "cleaned_df = open(\"cleaned_df.pickle\", \"rb\")\n",
    "processed_df = pickle.load(cleaned_df)"
   ]
  },
  {
   "cell_type": "markdown",
   "metadata": {
    "colab_type": "text",
    "id": "Je-C18g9uYWc"
   },
   "source": [
    "## Hypernyms"
   ]
  },
  {
   "cell_type": "code",
   "execution_count": 11,
   "metadata": {
    "colab": {},
    "colab_type": "code",
    "id": "daCUFkUWuXMr"
   },
   "outputs": [],
   "source": [
    "def get_wordnet_pos(word):\n",
    "    '''\n",
    "    Convert the PennTreebank tags to simple Wordnet tags\n",
    "    '''\n",
    "    tag = pos_tag([word])[0][1][0].upper()\n",
    "\n",
    "    tag_dict = {\"J\": wn.ADJ,\n",
    "                \"N\": wn.NOUN,\n",
    "                \"V\": wn.VERB,\n",
    "                \"R\": wn.ADV}\n",
    "\n",
    "    return tag_dict.get(tag, wn.NOUN)\n",
    "\n",
    "def get_hypernyms(text):\n",
    "\n",
    "    hypernymn_tweet = []\n",
    "    \n",
    "    count = len(text)\n",
    "\n",
    "    for word in text:\n",
    "        synsets = wn.synsets(word)\n",
    "\n",
    "        if len(synsets) <= 0:\n",
    "            hypernymn_tweet.append(word)\n",
    "        else:\n",
    "        # We get the hypernym\n",
    "            hyper = synsets[0].hypernyms()\n",
    "        # If we get a result\n",
    "            if len(hyper) <= 0:\n",
    "                hypernymn_tweet.append(word)\n",
    "            else:\n",
    "                lemmas = hyper[0].lemma_names()\n",
    "                hypernymn_tweet.append(lemmas[0])\n",
    "    return hypernymn_tweet"
   ]
  },
  {
   "cell_type": "code",
   "execution_count": 12,
   "metadata": {
    "colab": {
     "base_uri": "https://localhost:8080/",
     "height": 363
    },
    "colab_type": "code",
    "executionInfo": {
     "elapsed": 2699,
     "status": "ok",
     "timestamp": 1592400399546,
     "user": {
      "displayName": "Narendrakumar Hosamani",
      "photoUrl": "",
      "userId": "07851196596534242577"
     },
     "user_tz": -120
    },
    "id": "zVYmqdECvLuA",
    "outputId": "c4173423-1cb3-43f9-db56-69cf544fb7e9"
   },
   "outputs": [
    {
     "data": {
      "text/html": [
       "<div>\n",
       "<style scoped>\n",
       "    .dataframe tbody tr th:only-of-type {\n",
       "        vertical-align: middle;\n",
       "    }\n",
       "\n",
       "    .dataframe tbody tr th {\n",
       "        vertical-align: top;\n",
       "    }\n",
       "\n",
       "    .dataframe thead th {\n",
       "        text-align: right;\n",
       "    }\n",
       "</style>\n",
       "<table border=\"1\" class=\"dataframe\">\n",
       "  <thead>\n",
       "    <tr style=\"text-align: right;\">\n",
       "      <th></th>\n",
       "      <th>date</th>\n",
       "      <th>text</th>\n",
       "      <th>clean_text</th>\n",
       "      <th>hypernym_text</th>\n",
       "    </tr>\n",
       "  </thead>\n",
       "  <tbody>\n",
       "    <tr>\n",
       "      <th>0</th>\n",
       "      <td>2020-03-09 13:50:23+00:00</td>\n",
       "      <td>RT @WantMyMoneyBac: @love4thegameAK Muslim Brothhood written goal is to infiltrate from within. Thanks Obama.\\n\\nBest 4 minutes you’ll spend…</td>\n",
       "      <td>[wantmymoneybac, love4thegameak, muslim, brothhood, write, goal, infiltrate, within, thanks, obama, best, 4, minute, spend]</td>\n",
       "      <td>[wantmymoneybac, love4thegameak, religious_person, brothhood, create_verbally, content, percolate, within, acknowledgment, obama, attempt, digit, time_unit, spend]</td>\n",
       "    </tr>\n",
       "    <tr>\n",
       "      <th>1</th>\n",
       "      <td>2020-03-09 13:50:12+00:00</td>\n",
       "      <td>RT @RebeccaH2020: We chose @GretaThunberg because she stands up for what she believes\\nChildren at a Yorkshire school chose the \"inspiring\"…</td>\n",
       "      <td>[rebeccah2020, chose, gretathunberg, stand, believe, child, yorkshire, school, chose, inspire]</td>\n",
       "      <td>[rebeccah2020, decide, gretathunberg, support, accept, juvenile, yorkshire, educational_institution, decide, stimulate]</td>\n",
       "    </tr>\n",
       "    <tr>\n",
       "      <th>2</th>\n",
       "      <td>2020-03-09 13:49:34+00:00</td>\n",
       "      <td>RT @RebeccaH2020: We chose @GretaThunberg because she stands up for what she believes\\nChildren at a Yorkshire school chose the \"inspiring\"…</td>\n",
       "      <td>[rebeccah2020, chose, gretathunberg, stand, believe, child, yorkshire, school, chose, inspire]</td>\n",
       "      <td>[rebeccah2020, decide, gretathunberg, support, accept, juvenile, yorkshire, educational_institution, decide, stimulate]</td>\n",
       "    </tr>\n",
       "    <tr>\n",
       "      <th>3</th>\n",
       "      <td>2020-03-09 13:48:00+00:00</td>\n",
       "      <td>RT @WantMyMoneyBac: @love4thegameAK Muslim Brothhood written goal is to infiltrate from within. Thanks Obama.\\n\\nBest 4 minutes you’ll spend…</td>\n",
       "      <td>[wantmymoneybac, love4thegameak, muslim, brothhood, write, goal, infiltrate, within, thanks, obama, best, 4, minute, spend]</td>\n",
       "      <td>[wantmymoneybac, love4thegameak, religious_person, brothhood, create_verbally, content, percolate, within, acknowledgment, obama, attempt, digit, time_unit, spend]</td>\n",
       "    </tr>\n",
       "    <tr>\n",
       "      <th>4</th>\n",
       "      <td>2020-03-09 13:47:15+00:00</td>\n",
       "      <td>RT @CAREGlobal: \"The climate crisis has a female face.\\n\\nAs a woman from Africa, I am often oppressed by racism, sexism, culture, classism,…</td>\n",
       "      <td>[careglobal, climate, crisis, female, face, woman, africa, often, oppress, racism, sexism, culture, classism]</td>\n",
       "      <td>[careglobal, environmental_condition, situation, animal, external_body_part, adult, africa, often, oppress, bias, discrimination, society, classism]</td>\n",
       "    </tr>\n",
       "  </tbody>\n",
       "</table>\n",
       "</div>"
      ],
      "text/plain": [
       "                       date  \\\n",
       "0 2020-03-09 13:50:23+00:00   \n",
       "1 2020-03-09 13:50:12+00:00   \n",
       "2 2020-03-09 13:49:34+00:00   \n",
       "3 2020-03-09 13:48:00+00:00   \n",
       "4 2020-03-09 13:47:15+00:00   \n",
       "\n",
       "                                                                                                                                            text  \\\n",
       "0  RT @WantMyMoneyBac: @love4thegameAK Muslim Brothhood written goal is to infiltrate from within. Thanks Obama.\\n\\nBest 4 minutes you’ll spend…   \n",
       "1   RT @RebeccaH2020: We chose @GretaThunberg because she stands up for what she believes\\nChildren at a Yorkshire school chose the \"inspiring\"…   \n",
       "2   RT @RebeccaH2020: We chose @GretaThunberg because she stands up for what she believes\\nChildren at a Yorkshire school chose the \"inspiring\"…   \n",
       "3  RT @WantMyMoneyBac: @love4thegameAK Muslim Brothhood written goal is to infiltrate from within. Thanks Obama.\\n\\nBest 4 minutes you’ll spend…   \n",
       "4  RT @CAREGlobal: \"The climate crisis has a female face.\\n\\nAs a woman from Africa, I am often oppressed by racism, sexism, culture, classism,…   \n",
       "\n",
       "                                                                                                                    clean_text  \\\n",
       "0  [wantmymoneybac, love4thegameak, muslim, brothhood, write, goal, infiltrate, within, thanks, obama, best, 4, minute, spend]   \n",
       "1                               [rebeccah2020, chose, gretathunberg, stand, believe, child, yorkshire, school, chose, inspire]   \n",
       "2                               [rebeccah2020, chose, gretathunberg, stand, believe, child, yorkshire, school, chose, inspire]   \n",
       "3  [wantmymoneybac, love4thegameak, muslim, brothhood, write, goal, infiltrate, within, thanks, obama, best, 4, minute, spend]   \n",
       "4                [careglobal, climate, crisis, female, face, woman, africa, often, oppress, racism, sexism, culture, classism]   \n",
       "\n",
       "                                                                                                                                                         hypernym_text  \n",
       "0  [wantmymoneybac, love4thegameak, religious_person, brothhood, create_verbally, content, percolate, within, acknowledgment, obama, attempt, digit, time_unit, spend]  \n",
       "1                                              [rebeccah2020, decide, gretathunberg, support, accept, juvenile, yorkshire, educational_institution, decide, stimulate]  \n",
       "2                                              [rebeccah2020, decide, gretathunberg, support, accept, juvenile, yorkshire, educational_institution, decide, stimulate]  \n",
       "3  [wantmymoneybac, love4thegameak, religious_person, brothhood, create_verbally, content, percolate, within, acknowledgment, obama, attempt, digit, time_unit, spend]  \n",
       "4                 [careglobal, environmental_condition, situation, animal, external_body_part, adult, africa, often, oppress, bias, discrimination, society, classism]  "
      ]
     },
     "execution_count": 12,
     "metadata": {},
     "output_type": "execute_result"
    }
   ],
   "source": [
    "hypernym_text = []\n",
    "tweets = processed_df['clean_text']\n",
    "for tweet in tweets:\n",
    "    hypernym_text.append(get_hypernyms(tweet))\n",
    "processed_df['hypernym_text'] = hypernym_text\n",
    "processed_df.head()"
   ]
  },
  {
   "cell_type": "markdown",
   "metadata": {
    "colab_type": "text",
    "id": "Flf8tXR-aJFi"
   },
   "source": [
    "## Word Embedding and Reaplcing words with centroid of the clusters of word vectors"
   ]
  },
  {
   "cell_type": "code",
   "execution_count": 13,
   "metadata": {
    "colab": {},
    "colab_type": "code",
    "executionInfo": {
     "elapsed": 705,
     "status": "ok",
     "timestamp": 1592422781012,
     "user": {
      "displayName": "Narendrakumar Hosamani",
      "photoUrl": "",
      "userId": "07851196596534242577"
     },
     "user_tz": -120
    },
    "id": "6RgRSGeM3ZSJ"
   },
   "outputs": [
    {
     "name": "stderr",
     "output_type": "stream",
     "text": [
      "unable to import 'smart_open.gcs', disabling that module\n"
     ]
    }
   ],
   "source": [
    "# Import word2vec model\n",
    "from gensim.models import Word2Vec, KeyedVectors"
   ]
  },
  {
   "cell_type": "code",
   "execution_count": 14,
   "metadata": {
    "colab": {},
    "colab_type": "code",
    "executionInfo": {
     "elapsed": 118258,
     "status": "ok",
     "timestamp": 1592422901305,
     "user": {
      "displayName": "Narendrakumar Hosamani",
      "photoUrl": "",
      "userId": "07851196596534242577"
     },
     "user_tz": -120
    },
    "id": "fdb9xOEx4dN1"
   },
   "outputs": [],
   "source": [
    "model = KeyedVectors.load_word2vec_format('GoogleNews-vectors-negative300.bin.gz', binary=True)"
   ]
  },
  {
   "cell_type": "code",
   "execution_count": 15,
   "metadata": {
    "colab": {
     "base_uri": "https://localhost:8080/",
     "height": 34
    },
    "colab_type": "code",
    "executionInfo": {
     "elapsed": 3871,
     "status": "ok",
     "timestamp": 1592401674076,
     "user": {
      "displayName": "Narendrakumar Hosamani",
      "photoUrl": "",
      "userId": "07851196596534242577"
     },
     "user_tz": -120
    },
    "id": "cgkY5glliSo9",
    "outputId": "8b0d68c6-30a2-49cb-b81a-c197ada51ac6"
   },
   "outputs": [
    {
     "data": {
      "text/plain": [
       "300"
      ]
     },
     "execution_count": 15,
     "metadata": {},
     "output_type": "execute_result"
    }
   ],
   "source": [
    "model.vector_size"
   ]
  },
  {
   "cell_type": "code",
   "execution_count": 16,
   "metadata": {
    "colab": {
     "base_uri": "https://localhost:8080/",
     "height": 34
    },
    "colab_type": "code",
    "executionInfo": {
     "elapsed": 759,
     "status": "ok",
     "timestamp": 1592422746181,
     "user": {
      "displayName": "Narendrakumar Hosamani",
      "photoUrl": "",
      "userId": "07851196596534242577"
     },
     "user_tz": -120
    },
    "id": "KrgireP0ja2h",
    "outputId": "46bd1f10-38e1-4c36-86ef-a9d68189587e"
   },
   "outputs": [
    {
     "name": "stdout",
     "output_type": "stream",
     "text": [
      "Found 9140 unique tokens in corpus\n"
     ]
    }
   ],
   "source": [
    "#generate a set of unique tokens in entire corpus\n",
    "unique_tokens = set()\n",
    "for text in processed_df['clean_text']:\n",
    "    unique_tokens.update(text)\n",
    "print(\"Found {} unique tokens in corpus\".format(len(unique_tokens)))"
   ]
  },
  {
   "cell_type": "code",
   "execution_count": 17,
   "metadata": {
    "colab": {
     "base_uri": "https://localhost:8080/",
     "height": 34
    },
    "colab_type": "code",
    "executionInfo": {
     "elapsed": 799,
     "status": "ok",
     "timestamp": 1592422996007,
     "user": {
      "displayName": "Narendrakumar Hosamani",
      "photoUrl": "",
      "userId": "07851196596534242577"
     },
     "user_tz": -120
    },
    "id": "btTQovJliYQK",
    "outputId": "919c5d6b-13e0-4210-f5f7-2cd3cbe76030"
   },
   "outputs": [
    {
     "data": {
      "text/plain": [
       "(5073, 300)"
      ]
     },
     "execution_count": 17,
     "metadata": {},
     "output_type": "execute_result"
    }
   ],
   "source": [
    "# Filter the list of vectors to include only those that Word2Vec has a vector for\n",
    "vector_list = [model[word] for word in unique_tokens if word in model.vocab]\n",
    "\n",
    "# Create a list of the words corresponding to these vectors\n",
    "words_filtered = [word for word in unique_tokens if word in model.vocab]\n",
    "\n",
    "# Zip the words together with their vector representations\n",
    "word_vec_zip = zip(words_filtered, vector_list)\n",
    "\n",
    "# Cast to a dict so we can turn it into a DataFrame\n",
    "word_vec_dict = dict(word_vec_zip)\n",
    "embeddings_df = pd.DataFrame.from_dict(word_vec_dict, orient='index')\n",
    "embeddings_df.shape"
   ]
  },
  {
   "cell_type": "code",
   "execution_count": 18,
   "metadata": {
    "colab": {
     "base_uri": "https://localhost:8080/",
     "height": 185
    },
    "colab_type": "code",
    "executionInfo": {
     "elapsed": 810,
     "status": "ok",
     "timestamp": 1592402196143,
     "user": {
      "displayName": "Narendrakumar Hosamani",
      "photoUrl": "",
      "userId": "07851196596534242577"
     },
     "user_tz": -120
    },
    "id": "VczP2pCdkRug",
    "outputId": "78a6567e-e99d-4e5b-e980-20aca28f9b91"
   },
   "outputs": [
    {
     "data": {
      "text/html": [
       "<div>\n",
       "<style scoped>\n",
       "    .dataframe tbody tr th:only-of-type {\n",
       "        vertical-align: middle;\n",
       "    }\n",
       "\n",
       "    .dataframe tbody tr th {\n",
       "        vertical-align: top;\n",
       "    }\n",
       "\n",
       "    .dataframe thead th {\n",
       "        text-align: right;\n",
       "    }\n",
       "</style>\n",
       "<table border=\"1\" class=\"dataframe\">\n",
       "  <thead>\n",
       "    <tr style=\"text-align: right;\">\n",
       "      <th></th>\n",
       "      <th>0</th>\n",
       "      <th>1</th>\n",
       "      <th>2</th>\n",
       "      <th>3</th>\n",
       "      <th>4</th>\n",
       "      <th>5</th>\n",
       "      <th>6</th>\n",
       "      <th>7</th>\n",
       "      <th>8</th>\n",
       "      <th>9</th>\n",
       "      <th>...</th>\n",
       "      <th>290</th>\n",
       "      <th>291</th>\n",
       "      <th>292</th>\n",
       "      <th>293</th>\n",
       "      <th>294</th>\n",
       "      <th>295</th>\n",
       "      <th>296</th>\n",
       "      <th>297</th>\n",
       "      <th>298</th>\n",
       "      <th>299</th>\n",
       "    </tr>\n",
       "  </thead>\n",
       "  <tbody>\n",
       "    <tr>\n",
       "      <th>entitle</th>\n",
       "      <td>0.064941</td>\n",
       "      <td>-0.296875</td>\n",
       "      <td>0.179688</td>\n",
       "      <td>0.285156</td>\n",
       "      <td>0.015747</td>\n",
       "      <td>0.041504</td>\n",
       "      <td>0.429688</td>\n",
       "      <td>0.251953</td>\n",
       "      <td>0.091309</td>\n",
       "      <td>-0.026489</td>\n",
       "      <td>...</td>\n",
       "      <td>0.447266</td>\n",
       "      <td>0.185547</td>\n",
       "      <td>0.038086</td>\n",
       "      <td>0.062500</td>\n",
       "      <td>0.155273</td>\n",
       "      <td>0.218750</td>\n",
       "      <td>-0.101074</td>\n",
       "      <td>-0.287109</td>\n",
       "      <td>-0.035156</td>\n",
       "      <td>-0.000896</td>\n",
       "    </tr>\n",
       "    <tr>\n",
       "      <th>net</th>\n",
       "      <td>-0.135742</td>\n",
       "      <td>0.050293</td>\n",
       "      <td>-0.074219</td>\n",
       "      <td>0.075684</td>\n",
       "      <td>0.056152</td>\n",
       "      <td>-0.281250</td>\n",
       "      <td>0.098145</td>\n",
       "      <td>-0.066406</td>\n",
       "      <td>0.304688</td>\n",
       "      <td>0.011230</td>\n",
       "      <td>...</td>\n",
       "      <td>-0.043945</td>\n",
       "      <td>0.306641</td>\n",
       "      <td>-0.141602</td>\n",
       "      <td>0.127930</td>\n",
       "      <td>-0.063477</td>\n",
       "      <td>0.016479</td>\n",
       "      <td>0.386719</td>\n",
       "      <td>-0.140625</td>\n",
       "      <td>-0.120605</td>\n",
       "      <td>-0.425781</td>\n",
       "    </tr>\n",
       "    <tr>\n",
       "      <th>hum</th>\n",
       "      <td>0.193359</td>\n",
       "      <td>0.047119</td>\n",
       "      <td>0.097168</td>\n",
       "      <td>0.215820</td>\n",
       "      <td>-0.367188</td>\n",
       "      <td>-0.125000</td>\n",
       "      <td>0.043213</td>\n",
       "      <td>0.106445</td>\n",
       "      <td>0.087402</td>\n",
       "      <td>0.550781</td>\n",
       "      <td>...</td>\n",
       "      <td>-0.027100</td>\n",
       "      <td>0.156250</td>\n",
       "      <td>0.088867</td>\n",
       "      <td>-0.263672</td>\n",
       "      <td>0.169922</td>\n",
       "      <td>-0.088379</td>\n",
       "      <td>0.161133</td>\n",
       "      <td>-0.275391</td>\n",
       "      <td>-0.011475</td>\n",
       "      <td>0.163086</td>\n",
       "    </tr>\n",
       "  </tbody>\n",
       "</table>\n",
       "<p>3 rows × 300 columns</p>\n",
       "</div>"
      ],
      "text/plain": [
       "              0         1         2         3         4         5         6    \\\n",
       "entitle  0.064941 -0.296875  0.179688  0.285156  0.015747  0.041504  0.429688   \n",
       "net     -0.135742  0.050293 -0.074219  0.075684  0.056152 -0.281250  0.098145   \n",
       "hum      0.193359  0.047119  0.097168  0.215820 -0.367188 -0.125000  0.043213   \n",
       "\n",
       "              7         8         9    ...       290       291       292  \\\n",
       "entitle  0.251953  0.091309 -0.026489  ...  0.447266  0.185547  0.038086   \n",
       "net     -0.066406  0.304688  0.011230  ... -0.043945  0.306641 -0.141602   \n",
       "hum      0.106445  0.087402  0.550781  ... -0.027100  0.156250  0.088867   \n",
       "\n",
       "              293       294       295       296       297       298       299  \n",
       "entitle  0.062500  0.155273  0.218750 -0.101074 -0.287109 -0.035156 -0.000896  \n",
       "net      0.127930 -0.063477  0.016479  0.386719 -0.140625 -0.120605 -0.425781  \n",
       "hum     -0.263672  0.169922 -0.088379  0.161133 -0.275391 -0.011475  0.163086  \n",
       "\n",
       "[3 rows x 300 columns]"
      ]
     },
     "execution_count": 18,
     "metadata": {},
     "output_type": "execute_result"
    }
   ],
   "source": [
    "embeddings_df.head(3)"
   ]
  },
  {
   "cell_type": "code",
   "execution_count": 19,
   "metadata": {
    "colab": {},
    "colab_type": "code",
    "executionInfo": {
     "elapsed": 773,
     "status": "ok",
     "timestamp": 1592423053140,
     "user": {
      "displayName": "Narendrakumar Hosamani",
      "photoUrl": "",
      "userId": "07851196596534242577"
     },
     "user_tz": -120
    },
    "id": "IYbvSS8mzrXk"
   },
   "outputs": [],
   "source": [
    "df = open(\"embeddings_df.pickle\",\"wb\")\n",
    "pickle.dump(embeddings_df, df)"
   ]
  },
  {
   "cell_type": "markdown",
   "metadata": {
    "colab_type": "text",
    "id": "lqyg7UxWkn0E"
   },
   "source": [
    "## Clustering"
   ]
  },
  {
   "cell_type": "code",
   "execution_count": 20,
   "metadata": {
    "colab": {},
    "colab_type": "code",
    "id": "tOVtea6ah9pO"
   },
   "outputs": [],
   "source": [
    "from sklearn.cluster import KMeans\n",
    "from sklearn.metrics import pairwise_distances_argmin_min"
   ]
  },
  {
   "cell_type": "code",
   "execution_count": 21,
   "metadata": {
    "colab": {},
    "colab_type": "code",
    "id": "dDYTlKSfh9nU"
   },
   "outputs": [],
   "source": [
    "num_of_clusters = len(embeddings_df) // 10\n",
    "\n",
    "df = embeddings_df\n",
    "\n",
    "#clustering\n",
    "    \n",
    "kmeans = KMeans(n_clusters = num_of_clusters, random_state=42).fit(df)\n",
    "group_num = kmeans.labels_\n",
    "centroids = kmeans.cluster_centers_\n",
    "\n",
    "#assign nearest word to geometric centroid in embedding space as centroid\n",
    "# find the index of the closest points from x to each class centroid\n",
    "close = pairwise_distances_argmin_min(centroids, df, metric='euclidean')\n",
    "index_closest_points = close[0]\n",
    "word_centroids = df.iloc[index_closest_points].index\n",
    "\n",
    "#create dict of group number and centroids\n",
    "centroid_dict = {}\n",
    "for i in range(len(index_closest_points)):\n",
    "    centroid_dict[i] = word_centroids[i]\n",
    "\n",
    "#create a dictionary of word and corresponding centroid\n",
    "\n",
    "#replace each label(group number) assigned by kmeans cluster algo with centroid word\n",
    "cen = [centroid_dict.get(group) for group in group_num]\n",
    "\n",
    "#create a dictionary\n",
    "word_centroid_dict = {}\n",
    "\n",
    "for i in range(df.shape[0]):\n",
    "    word_centroid_dict[df.index[i]] = cen[i]"
   ]
  },
  {
   "cell_type": "code",
   "execution_count": 22,
   "metadata": {
    "colab": {},
    "colab_type": "code",
    "id": "f4YrblelmNBz"
   },
   "outputs": [],
   "source": [
    "# Replacing words with the centroid of the cluster\n",
    "replaced_tokens = []\n",
    "\n",
    "for tweet in processed_df['clean_text']:\n",
    "    replaced_tokens.append([word_centroid_dict.get(word) if word in word_centroid_dict else word for word in tweet])\n",
    "processed_df['word_embedding_text'] = replaced_tokens"
   ]
  },
  {
   "cell_type": "code",
   "execution_count": 23,
   "metadata": {
    "colab": {
     "base_uri": "https://localhost:8080/",
     "height": 414
    },
    "colab_type": "code",
    "executionInfo": {
     "elapsed": 556,
     "status": "ok",
     "timestamp": 1592402927410,
     "user": {
      "displayName": "Narendrakumar Hosamani",
      "photoUrl": "",
      "userId": "07851196596534242577"
     },
     "user_tz": -120
    },
    "id": "saHtBOOSh9kx",
    "outputId": "64fb1352-ac1d-4eae-d3b0-c99254634a2f"
   },
   "outputs": [
    {
     "data": {
      "text/html": [
       "<div>\n",
       "<style scoped>\n",
       "    .dataframe tbody tr th:only-of-type {\n",
       "        vertical-align: middle;\n",
       "    }\n",
       "\n",
       "    .dataframe tbody tr th {\n",
       "        vertical-align: top;\n",
       "    }\n",
       "\n",
       "    .dataframe thead th {\n",
       "        text-align: right;\n",
       "    }\n",
       "</style>\n",
       "<table border=\"1\" class=\"dataframe\">\n",
       "  <thead>\n",
       "    <tr style=\"text-align: right;\">\n",
       "      <th></th>\n",
       "      <th>date</th>\n",
       "      <th>text</th>\n",
       "      <th>clean_text</th>\n",
       "      <th>hypernym_text</th>\n",
       "      <th>word_embedding_text</th>\n",
       "    </tr>\n",
       "  </thead>\n",
       "  <tbody>\n",
       "    <tr>\n",
       "      <th>0</th>\n",
       "      <td>2020-03-09 13:50:23+00:00</td>\n",
       "      <td>RT @WantMyMoneyBac: @love4thegameAK Muslim Brothhood written goal is to infiltrate from within. Thanks Obama.\\n\\nBest 4 minutes you’ll spend…</td>\n",
       "      <td>[wantmymoneybac, love4thegameak, muslim, brothhood, write, goal, infiltrate, within, thanks, obama, best, 4, minute, spend]</td>\n",
       "      <td>[wantmymoneybac, love4thegameak, religious_person, brothhood, create_verbally, content, percolate, within, acknowledgment, obama, attempt, digit, time_unit, spend]</td>\n",
       "      <td>[wantmymoneybac, love4thegameak, raju, brothhood, businessworld, businessworld, conquer, businessworld, despite, america, best, 5, businessworld, soulja]</td>\n",
       "    </tr>\n",
       "    <tr>\n",
       "      <th>1</th>\n",
       "      <td>2020-03-09 13:50:12+00:00</td>\n",
       "      <td>RT @RebeccaH2020: We chose @GretaThunberg because she stands up for what she believes\\nChildren at a Yorkshire school chose the \"inspiring\"…</td>\n",
       "      <td>[rebeccah2020, chose, gretathunberg, stand, believe, child, yorkshire, school, chose, inspire]</td>\n",
       "      <td>[rebeccah2020, decide, gretathunberg, support, accept, juvenile, yorkshire, educational_institution, decide, stimulate]</td>\n",
       "      <td>[rebeccah2020, want, gretathunberg, soulja, soulja, young, armstrong, school, want, educate]</td>\n",
       "    </tr>\n",
       "    <tr>\n",
       "      <th>2</th>\n",
       "      <td>2020-03-09 13:49:34+00:00</td>\n",
       "      <td>RT @RebeccaH2020: We chose @GretaThunberg because she stands up for what she believes\\nChildren at a Yorkshire school chose the \"inspiring\"…</td>\n",
       "      <td>[rebeccah2020, chose, gretathunberg, stand, believe, child, yorkshire, school, chose, inspire]</td>\n",
       "      <td>[rebeccah2020, decide, gretathunberg, support, accept, juvenile, yorkshire, educational_institution, decide, stimulate]</td>\n",
       "      <td>[rebeccah2020, want, gretathunberg, soulja, soulja, young, armstrong, school, want, educate]</td>\n",
       "    </tr>\n",
       "    <tr>\n",
       "      <th>3</th>\n",
       "      <td>2020-03-09 13:48:00+00:00</td>\n",
       "      <td>RT @WantMyMoneyBac: @love4thegameAK Muslim Brothhood written goal is to infiltrate from within. Thanks Obama.\\n\\nBest 4 minutes you’ll spend…</td>\n",
       "      <td>[wantmymoneybac, love4thegameak, muslim, brothhood, write, goal, infiltrate, within, thanks, obama, best, 4, minute, spend]</td>\n",
       "      <td>[wantmymoneybac, love4thegameak, religious_person, brothhood, create_verbally, content, percolate, within, acknowledgment, obama, attempt, digit, time_unit, spend]</td>\n",
       "      <td>[wantmymoneybac, love4thegameak, raju, brothhood, businessworld, businessworld, conquer, businessworld, despite, america, best, 5, businessworld, soulja]</td>\n",
       "    </tr>\n",
       "    <tr>\n",
       "      <th>4</th>\n",
       "      <td>2020-03-09 13:47:15+00:00</td>\n",
       "      <td>RT @CAREGlobal: \"The climate crisis has a female face.\\n\\nAs a woman from Africa, I am often oppressed by racism, sexism, culture, classism,…</td>\n",
       "      <td>[careglobal, climate, crisis, female, face, woman, africa, often, oppress, racism, sexism, culture, classism]</td>\n",
       "      <td>[careglobal, environmental_condition, situation, animal, external_body_part, adult, africa, often, oppress, bias, discrimination, society, classism]</td>\n",
       "      <td>[careglobal, fahrenheit, globa, man, soulja, man, america, businessworld, soulja, harmer, patriarchy, mindset, patriarchy]</td>\n",
       "    </tr>\n",
       "  </tbody>\n",
       "</table>\n",
       "</div>"
      ],
      "text/plain": [
       "                       date  \\\n",
       "0 2020-03-09 13:50:23+00:00   \n",
       "1 2020-03-09 13:50:12+00:00   \n",
       "2 2020-03-09 13:49:34+00:00   \n",
       "3 2020-03-09 13:48:00+00:00   \n",
       "4 2020-03-09 13:47:15+00:00   \n",
       "\n",
       "                                                                                                                                            text  \\\n",
       "0  RT @WantMyMoneyBac: @love4thegameAK Muslim Brothhood written goal is to infiltrate from within. Thanks Obama.\\n\\nBest 4 minutes you’ll spend…   \n",
       "1   RT @RebeccaH2020: We chose @GretaThunberg because she stands up for what she believes\\nChildren at a Yorkshire school chose the \"inspiring\"…   \n",
       "2   RT @RebeccaH2020: We chose @GretaThunberg because she stands up for what she believes\\nChildren at a Yorkshire school chose the \"inspiring\"…   \n",
       "3  RT @WantMyMoneyBac: @love4thegameAK Muslim Brothhood written goal is to infiltrate from within. Thanks Obama.\\n\\nBest 4 minutes you’ll spend…   \n",
       "4  RT @CAREGlobal: \"The climate crisis has a female face.\\n\\nAs a woman from Africa, I am often oppressed by racism, sexism, culture, classism,…   \n",
       "\n",
       "                                                                                                                    clean_text  \\\n",
       "0  [wantmymoneybac, love4thegameak, muslim, brothhood, write, goal, infiltrate, within, thanks, obama, best, 4, minute, spend]   \n",
       "1                               [rebeccah2020, chose, gretathunberg, stand, believe, child, yorkshire, school, chose, inspire]   \n",
       "2                               [rebeccah2020, chose, gretathunberg, stand, believe, child, yorkshire, school, chose, inspire]   \n",
       "3  [wantmymoneybac, love4thegameak, muslim, brothhood, write, goal, infiltrate, within, thanks, obama, best, 4, minute, spend]   \n",
       "4                [careglobal, climate, crisis, female, face, woman, africa, often, oppress, racism, sexism, culture, classism]   \n",
       "\n",
       "                                                                                                                                                         hypernym_text  \\\n",
       "0  [wantmymoneybac, love4thegameak, religious_person, brothhood, create_verbally, content, percolate, within, acknowledgment, obama, attempt, digit, time_unit, spend]   \n",
       "1                                              [rebeccah2020, decide, gretathunberg, support, accept, juvenile, yorkshire, educational_institution, decide, stimulate]   \n",
       "2                                              [rebeccah2020, decide, gretathunberg, support, accept, juvenile, yorkshire, educational_institution, decide, stimulate]   \n",
       "3  [wantmymoneybac, love4thegameak, religious_person, brothhood, create_verbally, content, percolate, within, acknowledgment, obama, attempt, digit, time_unit, spend]   \n",
       "4                 [careglobal, environmental_condition, situation, animal, external_body_part, adult, africa, often, oppress, bias, discrimination, society, classism]   \n",
       "\n",
       "                                                                                                                                         word_embedding_text  \n",
       "0  [wantmymoneybac, love4thegameak, raju, brothhood, businessworld, businessworld, conquer, businessworld, despite, america, best, 5, businessworld, soulja]  \n",
       "1                                                               [rebeccah2020, want, gretathunberg, soulja, soulja, young, armstrong, school, want, educate]  \n",
       "2                                                               [rebeccah2020, want, gretathunberg, soulja, soulja, young, armstrong, school, want, educate]  \n",
       "3  [wantmymoneybac, love4thegameak, raju, brothhood, businessworld, businessworld, conquer, businessworld, despite, america, best, 5, businessworld, soulja]  \n",
       "4                                 [careglobal, fahrenheit, globa, man, soulja, man, america, businessworld, soulja, harmer, patriarchy, mindset, patriarchy]  "
      ]
     },
     "execution_count": 23,
     "metadata": {},
     "output_type": "execute_result"
    }
   ],
   "source": [
    "processed_df.head()"
   ]
  },
  {
   "cell_type": "markdown",
   "metadata": {
    "colab_type": "text",
    "id": "0xQktOkqnp_W"
   },
   "source": [
    "List of unique words, along with their cluster centroids and categories."
   ]
  },
  {
   "cell_type": "code",
   "execution_count": 24,
   "metadata": {
    "colab": {},
    "colab_type": "code",
    "id": "W6pbR3bVh9eu"
   },
   "outputs": [],
   "source": [
    "categories = [\"weather\", \"pollution\", \"policy\", \"action\", \"environment\", \"plastic\", \"recycle\",  \"people\",\"earth\",\"initiatives\"]"
   ]
  },
  {
   "cell_type": "code",
   "execution_count": 25,
   "metadata": {
    "colab": {
     "base_uri": "https://localhost:8080/",
     "height": 70
    },
    "colab_type": "code",
    "executionInfo": {
     "elapsed": 1117,
     "status": "ok",
     "timestamp": 1592404361190,
     "user": {
      "displayName": "Narendrakumar Hosamani",
      "photoUrl": "",
      "userId": "07851196596534242577"
     },
     "user_tz": -120
    },
    "id": "UjrvWXrgh9W5",
    "outputId": "545a7532-d7de-4daf-c645-24d05c50c31f"
   },
   "outputs": [],
   "source": [
    "# assign each unique token to a category from the above list\n",
    "words_to_categories = {}\n",
    "for word in unique_tokens:\n",
    "    similarities = []\n",
    "    for c in categories:\n",
    "        if(word in model.vocab):\n",
    "            similarities.append((c, model.similarity(c, word)))\n",
    "        else:\n",
    "            similarities.append((word, 0))\n",
    "    words_to_categories[word] = sorted(similarities, key = lambda x: x[1], reverse=True)[0][0]"
   ]
  },
  {
   "cell_type": "code",
   "execution_count": 26,
   "metadata": {
    "colab": {},
    "colab_type": "code",
    "id": "IlSY5fjLsf-0"
   },
   "outputs": [],
   "source": [
    "# assign each unique token with its centroid word form the corresponding cluster\n",
    "words_to_centroids = {}\n",
    "for word in unique_tokens:\n",
    "    words_to_centroids[word] = word_centroid_dict.get(word) or word"
   ]
  },
  {
   "cell_type": "code",
   "execution_count": 27,
   "metadata": {
    "colab": {},
    "colab_type": "code",
    "id": "zg7KWqpH0kJy"
   },
   "outputs": [],
   "source": [
    "repalced_words = pd.DataFrame()\n",
    "repalced_words['words'] = words_to_centroids.keys()\n",
    "repalced_words['centroids'] = words_to_centroids.values()\n",
    "repalced_words['categories'] = words_to_categories.values()"
   ]
  },
  {
   "cell_type": "code",
   "execution_count": 28,
   "metadata": {
    "colab": {
     "base_uri": "https://localhost:8080/",
     "height": 195
    },
    "colab_type": "code",
    "executionInfo": {
     "elapsed": 509,
     "status": "ok",
     "timestamp": 1592406909580,
     "user": {
      "displayName": "Narendrakumar Hosamani",
      "photoUrl": "",
      "userId": "07851196596534242577"
     },
     "user_tz": -120
    },
    "id": "J5Vk5LLI2RpN",
    "outputId": "a99b8b53-47cd-45f6-dbdb-363f1ec570e7"
   },
   "outputs": [
    {
     "data": {
      "text/html": [
       "<div>\n",
       "<style scoped>\n",
       "    .dataframe tbody tr th:only-of-type {\n",
       "        vertical-align: middle;\n",
       "    }\n",
       "\n",
       "    .dataframe tbody tr th {\n",
       "        vertical-align: top;\n",
       "    }\n",
       "\n",
       "    .dataframe thead th {\n",
       "        text-align: right;\n",
       "    }\n",
       "</style>\n",
       "<table border=\"1\" class=\"dataframe\">\n",
       "  <thead>\n",
       "    <tr style=\"text-align: right;\">\n",
       "      <th></th>\n",
       "      <th>words</th>\n",
       "      <th>centroids</th>\n",
       "      <th>categories</th>\n",
       "    </tr>\n",
       "  </thead>\n",
       "  <tbody>\n",
       "    <tr>\n",
       "      <th>0</th>\n",
       "      <td>alexandriav2005</td>\n",
       "      <td>alexandriav2005</td>\n",
       "      <td>alexandriav2005</td>\n",
       "    </tr>\n",
       "    <tr>\n",
       "      <th>1</th>\n",
       "      <td>entitle</td>\n",
       "      <td>entitle</td>\n",
       "      <td>policy</td>\n",
       "    </tr>\n",
       "    <tr>\n",
       "      <th>2</th>\n",
       "      <td>dsds</td>\n",
       "      <td>dsds</td>\n",
       "      <td>dsds</td>\n",
       "    </tr>\n",
       "    <tr>\n",
       "      <th>3</th>\n",
       "      <td>clearancesthis</td>\n",
       "      <td>clearancesthis</td>\n",
       "      <td>clearancesthis</td>\n",
       "    </tr>\n",
       "    <tr>\n",
       "      <th>4</th>\n",
       "      <td>net</td>\n",
       "      <td>last</td>\n",
       "      <td>action</td>\n",
       "    </tr>\n",
       "  </tbody>\n",
       "</table>\n",
       "</div>"
      ],
      "text/plain": [
       "             words        centroids       categories\n",
       "0  alexandriav2005  alexandriav2005  alexandriav2005\n",
       "1          entitle          entitle           policy\n",
       "2             dsds             dsds             dsds\n",
       "3   clearancesthis   clearancesthis   clearancesthis\n",
       "4              net             last           action"
      ]
     },
     "execution_count": 28,
     "metadata": {},
     "output_type": "execute_result"
    }
   ],
   "source": [
    "repalced_words.head()"
   ]
  },
  {
   "cell_type": "code",
   "execution_count": 29,
   "metadata": {
    "colab": {},
    "colab_type": "code",
    "id": "0_crKbwm0j42"
   },
   "outputs": [],
   "source": [
    "repalced_words.to_csv(\"repalced_words.csv\", index=False, header = True)"
   ]
  },
  {
   "cell_type": "code",
   "execution_count": 30,
   "metadata": {
    "colab": {
     "base_uri": "https://localhost:8080/",
     "height": 447
    },
    "colab_type": "code",
    "executionInfo": {
     "elapsed": 1038,
     "status": "ok",
     "timestamp": 1592407507187,
     "user": {
      "displayName": "Narendrakumar Hosamani",
      "photoUrl": "",
      "userId": "07851196596534242577"
     },
     "user_tz": -120
    },
    "id": "QQmW3cft3o5Z",
    "outputId": "b148e984-f15c-4640-f050-08dc58c2b336"
   },
   "outputs": [
    {
     "data": {
      "text/html": [
       "<div>\n",
       "<style scoped>\n",
       "    .dataframe tbody tr th:only-of-type {\n",
       "        vertical-align: middle;\n",
       "    }\n",
       "\n",
       "    .dataframe tbody tr th {\n",
       "        vertical-align: top;\n",
       "    }\n",
       "\n",
       "    .dataframe thead th {\n",
       "        text-align: right;\n",
       "    }\n",
       "</style>\n",
       "<table border=\"1\" class=\"dataframe\">\n",
       "  <thead>\n",
       "    <tr style=\"text-align: right;\">\n",
       "      <th></th>\n",
       "      <th>date</th>\n",
       "      <th>text</th>\n",
       "      <th>clean_text</th>\n",
       "      <th>hypernym_text</th>\n",
       "      <th>word_embedding_text</th>\n",
       "    </tr>\n",
       "  </thead>\n",
       "  <tbody>\n",
       "    <tr>\n",
       "      <th>0</th>\n",
       "      <td>2020-03-09 13:50:23+00:00</td>\n",
       "      <td>RT @WantMyMoneyBac: @love4thegameAK Muslim Brothhood written goal is to infiltrate from within. Thanks Obama.\\n\\nBest 4 minutes you’ll spend…</td>\n",
       "      <td>[wantmymoneybac, love4thegameak, muslim, brothhood, write, goal, infiltrate, within, thanks, obama, best, 4, minute, spend]</td>\n",
       "      <td>[wantmymoneybac, love4thegameak, religious_person, brothhood, create_verbally, content, percolate, within, acknowledgment, obama, attempt, digit, time_unit, spend]</td>\n",
       "      <td>[wantmymoneybac, love4thegameak, raju, brothhood, businessworld, businessworld, conquer, businessworld, despite, america, best, 5, businessworld, soulja]</td>\n",
       "    </tr>\n",
       "    <tr>\n",
       "      <th>1</th>\n",
       "      <td>2020-03-09 13:50:12+00:00</td>\n",
       "      <td>RT @RebeccaH2020: We chose @GretaThunberg because she stands up for what she believes\\nChildren at a Yorkshire school chose the \"inspiring\"…</td>\n",
       "      <td>[rebeccah2020, chose, gretathunberg, stand, believe, child, yorkshire, school, chose, inspire]</td>\n",
       "      <td>[rebeccah2020, decide, gretathunberg, support, accept, juvenile, yorkshire, educational_institution, decide, stimulate]</td>\n",
       "      <td>[rebeccah2020, want, gretathunberg, soulja, soulja, young, armstrong, school, want, educate]</td>\n",
       "    </tr>\n",
       "    <tr>\n",
       "      <th>2</th>\n",
       "      <td>2020-03-09 13:49:34+00:00</td>\n",
       "      <td>RT @RebeccaH2020: We chose @GretaThunberg because she stands up for what she believes\\nChildren at a Yorkshire school chose the \"inspiring\"…</td>\n",
       "      <td>[rebeccah2020, chose, gretathunberg, stand, believe, child, yorkshire, school, chose, inspire]</td>\n",
       "      <td>[rebeccah2020, decide, gretathunberg, support, accept, juvenile, yorkshire, educational_institution, decide, stimulate]</td>\n",
       "      <td>[rebeccah2020, want, gretathunberg, soulja, soulja, young, armstrong, school, want, educate]</td>\n",
       "    </tr>\n",
       "    <tr>\n",
       "      <th>3</th>\n",
       "      <td>2020-03-09 13:48:00+00:00</td>\n",
       "      <td>RT @WantMyMoneyBac: @love4thegameAK Muslim Brothhood written goal is to infiltrate from within. Thanks Obama.\\n\\nBest 4 minutes you’ll spend…</td>\n",
       "      <td>[wantmymoneybac, love4thegameak, muslim, brothhood, write, goal, infiltrate, within, thanks, obama, best, 4, minute, spend]</td>\n",
       "      <td>[wantmymoneybac, love4thegameak, religious_person, brothhood, create_verbally, content, percolate, within, acknowledgment, obama, attempt, digit, time_unit, spend]</td>\n",
       "      <td>[wantmymoneybac, love4thegameak, raju, brothhood, businessworld, businessworld, conquer, businessworld, despite, america, best, 5, businessworld, soulja]</td>\n",
       "    </tr>\n",
       "    <tr>\n",
       "      <th>4</th>\n",
       "      <td>2020-03-09 13:47:15+00:00</td>\n",
       "      <td>RT @CAREGlobal: \"The climate crisis has a female face.\\n\\nAs a woman from Africa, I am often oppressed by racism, sexism, culture, classism,…</td>\n",
       "      <td>[careglobal, climate, crisis, female, face, woman, africa, often, oppress, racism, sexism, culture, classism]</td>\n",
       "      <td>[careglobal, environmental_condition, situation, animal, external_body_part, adult, africa, often, oppress, bias, discrimination, society, classism]</td>\n",
       "      <td>[careglobal, fahrenheit, globa, man, soulja, man, america, businessworld, soulja, harmer, patriarchy, mindset, patriarchy]</td>\n",
       "    </tr>\n",
       "  </tbody>\n",
       "</table>\n",
       "</div>"
      ],
      "text/plain": [
       "                       date  \\\n",
       "0 2020-03-09 13:50:23+00:00   \n",
       "1 2020-03-09 13:50:12+00:00   \n",
       "2 2020-03-09 13:49:34+00:00   \n",
       "3 2020-03-09 13:48:00+00:00   \n",
       "4 2020-03-09 13:47:15+00:00   \n",
       "\n",
       "                                                                                                                                            text  \\\n",
       "0  RT @WantMyMoneyBac: @love4thegameAK Muslim Brothhood written goal is to infiltrate from within. Thanks Obama.\\n\\nBest 4 minutes you’ll spend…   \n",
       "1   RT @RebeccaH2020: We chose @GretaThunberg because she stands up for what she believes\\nChildren at a Yorkshire school chose the \"inspiring\"…   \n",
       "2   RT @RebeccaH2020: We chose @GretaThunberg because she stands up for what she believes\\nChildren at a Yorkshire school chose the \"inspiring\"…   \n",
       "3  RT @WantMyMoneyBac: @love4thegameAK Muslim Brothhood written goal is to infiltrate from within. Thanks Obama.\\n\\nBest 4 minutes you’ll spend…   \n",
       "4  RT @CAREGlobal: \"The climate crisis has a female face.\\n\\nAs a woman from Africa, I am often oppressed by racism, sexism, culture, classism,…   \n",
       "\n",
       "                                                                                                                    clean_text  \\\n",
       "0  [wantmymoneybac, love4thegameak, muslim, brothhood, write, goal, infiltrate, within, thanks, obama, best, 4, minute, spend]   \n",
       "1                               [rebeccah2020, chose, gretathunberg, stand, believe, child, yorkshire, school, chose, inspire]   \n",
       "2                               [rebeccah2020, chose, gretathunberg, stand, believe, child, yorkshire, school, chose, inspire]   \n",
       "3  [wantmymoneybac, love4thegameak, muslim, brothhood, write, goal, infiltrate, within, thanks, obama, best, 4, minute, spend]   \n",
       "4                [careglobal, climate, crisis, female, face, woman, africa, often, oppress, racism, sexism, culture, classism]   \n",
       "\n",
       "                                                                                                                                                         hypernym_text  \\\n",
       "0  [wantmymoneybac, love4thegameak, religious_person, brothhood, create_verbally, content, percolate, within, acknowledgment, obama, attempt, digit, time_unit, spend]   \n",
       "1                                              [rebeccah2020, decide, gretathunberg, support, accept, juvenile, yorkshire, educational_institution, decide, stimulate]   \n",
       "2                                              [rebeccah2020, decide, gretathunberg, support, accept, juvenile, yorkshire, educational_institution, decide, stimulate]   \n",
       "3  [wantmymoneybac, love4thegameak, religious_person, brothhood, create_verbally, content, percolate, within, acknowledgment, obama, attempt, digit, time_unit, spend]   \n",
       "4                 [careglobal, environmental_condition, situation, animal, external_body_part, adult, africa, often, oppress, bias, discrimination, society, classism]   \n",
       "\n",
       "                                                                                                                                         word_embedding_text  \n",
       "0  [wantmymoneybac, love4thegameak, raju, brothhood, businessworld, businessworld, conquer, businessworld, despite, america, best, 5, businessworld, soulja]  \n",
       "1                                                               [rebeccah2020, want, gretathunberg, soulja, soulja, young, armstrong, school, want, educate]  \n",
       "2                                                               [rebeccah2020, want, gretathunberg, soulja, soulja, young, armstrong, school, want, educate]  \n",
       "3  [wantmymoneybac, love4thegameak, raju, brothhood, businessworld, businessworld, conquer, businessworld, despite, america, best, 5, businessworld, soulja]  \n",
       "4                                 [careglobal, fahrenheit, globa, man, soulja, man, america, businessworld, soulja, harmer, patriarchy, mindset, patriarchy]  "
      ]
     },
     "execution_count": 30,
     "metadata": {},
     "output_type": "execute_result"
    }
   ],
   "source": [
    "processed_df.head()"
   ]
  },
  {
   "cell_type": "markdown",
   "metadata": {
    "colab_type": "text",
    "id": "WXWZFAjp3Iug"
   },
   "source": [
    "## Score Generation"
   ]
  },
  {
   "cell_type": "code",
   "execution_count": 31,
   "metadata": {
    "colab": {
     "base_uri": "https://localhost:8080/",
     "height": 34
    },
    "colab_type": "code",
    "executionInfo": {
     "elapsed": 103498,
     "status": "ok",
     "timestamp": 1592407636510,
     "user": {
      "displayName": "Narendrakumar Hosamani",
      "photoUrl": "",
      "userId": "07851196596534242577"
     },
     "user_tz": -120
    },
    "id": "GPnm14OB0j0j",
    "outputId": "51ed80be-6d24-47bc-aa34-60e2ffe4009f"
   },
   "outputs": [
    {
     "name": "stdout",
     "output_type": "stream",
     "text": [
      "Executed Successfully\n"
     ]
    }
   ],
   "source": [
    "\n",
    "def get_wordnet_pos(word):\n",
    "    '''\n",
    "    Convert the PennTreebank tags to simple Wordnet tags\n",
    "    '''\n",
    "    tag = pos_tag([word])[0][1][0].upper()\n",
    "\n",
    "    tag_dict = {\"J\": wn.ADJ,\n",
    "                \"N\": wn.NOUN,\n",
    "                \"V\": wn.VERB,\n",
    "                \"R\": wn.ADV}\n",
    "\n",
    "    return tag_dict.get(tag, wn.NOUN)\n",
    "\n",
    "\n",
    "def sentimentAnalyser(text):\n",
    "    '''\n",
    "    This Function generates normalized sentiment score and a sentiment category to the tweet.\n",
    "        Score is normalized for fairer comparison.\n",
    "    '''\n",
    "    # to count no. of words which bear scores\n",
    "    num_of_words = 0\n",
    "    sentiment_score = 0\n",
    "    final_score = 0\n",
    "\n",
    "    # sent_token = sent_tokenize(text)\n",
    "    word_token = [word_tokenize(sent) for sent in text]\n",
    "    word_pos_tag = [pos_tag(word) for word in word_token]\n",
    "\n",
    "    for i in range(len(word_pos_tag)):\n",
    "        for word, tag in (word_pos_tag[i]):\n",
    "            wn_tag = get_wordnet_pos(tag)\n",
    "\n",
    "            synsets = wn.synsets(word, pos=wn_tag)\n",
    "\n",
    "            if not synsets:\n",
    "                continue\n",
    "\n",
    "            word_sent_score = 0\n",
    "            synset_count = 0\n",
    "            # Calculate the aveage sentiment score of first 5 synsets of given word\n",
    "            for synset in synsets:\n",
    "                synset_count += 1\n",
    "                swn_synset = swn.senti_synset(synset.name())\n",
    "                word_sent_score += swn_synset.pos_score() - swn_synset.neg_score()\n",
    "                num_of_words += 1\n",
    "                if(synset_count==5):\n",
    "                    continue\n",
    "\n",
    "            sentiment_score += word_sent_score\n",
    "    if(num_of_words==0):\n",
    "      normalized_score = 0\n",
    "    else:\n",
    "      normalized_score = round(sentiment_score/num_of_words, 3)\n",
    "\n",
    "    # Classify reviews according to setiment score assigned\n",
    "    # 1 : positive, 0 : neutral, -1 : negative\n",
    "    if normalized_score > 0:\n",
    "        final_score = 1\n",
    "    elif normalized_score < 0:\n",
    "        final_score = -1\n",
    "    elif normalized_score == 0:\n",
    "        final_score = 0\n",
    "\n",
    "    return final_score\n",
    "\n",
    "\n",
    "if __name__ == \"__main__\":\n",
    "    processed_df\n",
    "    processed_tweets = processed_df['clean_text']\n",
    "    scores = []\n",
    "    for tweet in processed_tweets:\n",
    "        scores.append(sentimentAnalyser(tweet))\n",
    "    processed_df['score'] = scores\n",
    "    # tweet = '''next establish question use question mark liberally indicate question think face indicate not understand \n",
    "    # say question compose 3040 communication critical emoji discovery\n",
    "    # '''\n",
    "    # tweet_with_score = sentimentAnalyser(tweet)\n",
    "    # print(tweet_with_score)\n",
    "    processed_word_embedding_tweets = processed_df['word_embedding_text']\n",
    "    word_embedding_scores = []\n",
    "    for tweet in processed_word_embedding_tweets:\n",
    "        word_embedding_scores.append(sentimentAnalyser(tweet))\n",
    "    processed_df['word_embedding_scores'] = word_embedding_scores\n",
    "\n",
    "    processed_hypernymn_tweets = processed_df['hypernym_text']\n",
    "    hypernymn_scores = []\n",
    "    for tweet in processed_hypernymn_tweets:\n",
    "        hypernymn_scores.append(sentimentAnalyser(tweet))\n",
    "    processed_df['hypernymn_scores'] = hypernymn_scores\n",
    "\n",
    "    print(\"Executed Successfully\")"
   ]
  },
  {
   "cell_type": "code",
   "execution_count": 32,
   "metadata": {
    "colab": {
     "base_uri": "https://localhost:8080/",
     "height": 565
    },
    "colab_type": "code",
    "executionInfo": {
     "elapsed": 743,
     "status": "ok",
     "timestamp": 1592407702022,
     "user": {
      "displayName": "Narendrakumar Hosamani",
      "photoUrl": "",
      "userId": "07851196596534242577"
     },
     "user_tz": -120
    },
    "id": "pFLH1Kgy_Nkc",
    "outputId": "0f189a83-a7dc-4f92-ecc9-4534e70d2e52"
   },
   "outputs": [
    {
     "data": {
      "text/html": [
       "<div>\n",
       "<style scoped>\n",
       "    .dataframe tbody tr th:only-of-type {\n",
       "        vertical-align: middle;\n",
       "    }\n",
       "\n",
       "    .dataframe tbody tr th {\n",
       "        vertical-align: top;\n",
       "    }\n",
       "\n",
       "    .dataframe thead th {\n",
       "        text-align: right;\n",
       "    }\n",
       "</style>\n",
       "<table border=\"1\" class=\"dataframe\">\n",
       "  <thead>\n",
       "    <tr style=\"text-align: right;\">\n",
       "      <th></th>\n",
       "      <th>date</th>\n",
       "      <th>text</th>\n",
       "      <th>clean_text</th>\n",
       "      <th>hypernym_text</th>\n",
       "      <th>word_embedding_text</th>\n",
       "      <th>score</th>\n",
       "      <th>word_embedding_scores</th>\n",
       "      <th>hypernymn_scores</th>\n",
       "    </tr>\n",
       "  </thead>\n",
       "  <tbody>\n",
       "    <tr>\n",
       "      <th>0</th>\n",
       "      <td>2020-03-09 13:50:23+00:00</td>\n",
       "      <td>RT @WantMyMoneyBac: @love4thegameAK Muslim Brothhood written goal is to infiltrate from within. Thanks Obama.\\n\\nBest 4 minutes you’ll spend…</td>\n",
       "      <td>[wantmymoneybac, love4thegameak, muslim, brothhood, write, goal, infiltrate, within, thanks, obama, best, 4, minute, spend]</td>\n",
       "      <td>[wantmymoneybac, love4thegameak, religious_person, brothhood, create_verbally, content, percolate, within, acknowledgment, obama, attempt, digit, time_unit, spend]</td>\n",
       "      <td>[wantmymoneybac, love4thegameak, hyderabad, brothhood, tell, soulja, destroy, businessworld, despite, jessie, inspring, 5, soulja, spend]</td>\n",
       "      <td>1</td>\n",
       "      <td>-1</td>\n",
       "      <td>-1</td>\n",
       "    </tr>\n",
       "    <tr>\n",
       "      <th>1</th>\n",
       "      <td>2020-03-09 13:50:12+00:00</td>\n",
       "      <td>RT @RebeccaH2020: We chose @GretaThunberg because she stands up for what she believes\\nChildren at a Yorkshire school chose the \"inspiring\"…</td>\n",
       "      <td>[rebeccah2020, chose, gretathunberg, stand, believe, child, yorkshire, school, chose, inspire]</td>\n",
       "      <td>[rebeccah2020, decide, gretathunberg, support, accept, juvenile, yorkshire, educational_institution, decide, stimulate]</td>\n",
       "      <td>[rebeccah2020, even, gretathunberg, soulja, think, young, yorkshire, school, even, inspire]</td>\n",
       "      <td>-1</td>\n",
       "      <td>0</td>\n",
       "      <td>0</td>\n",
       "    </tr>\n",
       "    <tr>\n",
       "      <th>2</th>\n",
       "      <td>2020-03-09 13:49:34+00:00</td>\n",
       "      <td>RT @RebeccaH2020: We chose @GretaThunberg because she stands up for what she believes\\nChildren at a Yorkshire school chose the \"inspiring\"…</td>\n",
       "      <td>[rebeccah2020, chose, gretathunberg, stand, believe, child, yorkshire, school, chose, inspire]</td>\n",
       "      <td>[rebeccah2020, decide, gretathunberg, support, accept, juvenile, yorkshire, educational_institution, decide, stimulate]</td>\n",
       "      <td>[rebeccah2020, even, gretathunberg, soulja, think, young, yorkshire, school, even, inspire]</td>\n",
       "      <td>-1</td>\n",
       "      <td>0</td>\n",
       "      <td>0</td>\n",
       "    </tr>\n",
       "    <tr>\n",
       "      <th>3</th>\n",
       "      <td>2020-03-09 13:48:00+00:00</td>\n",
       "      <td>RT @WantMyMoneyBac: @love4thegameAK Muslim Brothhood written goal is to infiltrate from within. Thanks Obama.\\n\\nBest 4 minutes you’ll spend…</td>\n",
       "      <td>[wantmymoneybac, love4thegameak, muslim, brothhood, write, goal, infiltrate, within, thanks, obama, best, 4, minute, spend]</td>\n",
       "      <td>[wantmymoneybac, love4thegameak, religious_person, brothhood, create_verbally, content, percolate, within, acknowledgment, obama, attempt, digit, time_unit, spend]</td>\n",
       "      <td>[wantmymoneybac, love4thegameak, hyderabad, brothhood, tell, soulja, destroy, businessworld, despite, jessie, inspring, 5, soulja, spend]</td>\n",
       "      <td>1</td>\n",
       "      <td>-1</td>\n",
       "      <td>-1</td>\n",
       "    </tr>\n",
       "    <tr>\n",
       "      <th>4</th>\n",
       "      <td>2020-03-09 13:47:15+00:00</td>\n",
       "      <td>RT @CAREGlobal: \"The climate crisis has a female face.\\n\\nAs a woman from Africa, I am often oppressed by racism, sexism, culture, classism,…</td>\n",
       "      <td>[careglobal, climate, crisis, female, face, woman, africa, often, oppress, racism, sexism, culture, classism]</td>\n",
       "      <td>[careglobal, environmental_condition, situation, animal, external_body_part, adult, africa, often, oppress, bias, discrimination, society, classism]</td>\n",
       "      <td>[careglobal, ecological, psyop, young, soulja, woma, europe, harmer, destroy, racism, racism, mindset, racism]</td>\n",
       "      <td>0</td>\n",
       "      <td>0</td>\n",
       "      <td>-1</td>\n",
       "    </tr>\n",
       "  </tbody>\n",
       "</table>\n",
       "</div>"
      ],
      "text/plain": [
       "                       date  \\\n",
       "0 2020-03-09 13:50:23+00:00   \n",
       "1 2020-03-09 13:50:12+00:00   \n",
       "2 2020-03-09 13:49:34+00:00   \n",
       "3 2020-03-09 13:48:00+00:00   \n",
       "4 2020-03-09 13:47:15+00:00   \n",
       "\n",
       "                                                                                                                                            text  \\\n",
       "0  RT @WantMyMoneyBac: @love4thegameAK Muslim Brothhood written goal is to infiltrate from within. Thanks Obama.\\n\\nBest 4 minutes you’ll spend…   \n",
       "1   RT @RebeccaH2020: We chose @GretaThunberg because she stands up for what she believes\\nChildren at a Yorkshire school chose the \"inspiring\"…   \n",
       "2   RT @RebeccaH2020: We chose @GretaThunberg because she stands up for what she believes\\nChildren at a Yorkshire school chose the \"inspiring\"…   \n",
       "3  RT @WantMyMoneyBac: @love4thegameAK Muslim Brothhood written goal is to infiltrate from within. Thanks Obama.\\n\\nBest 4 minutes you’ll spend…   \n",
       "4  RT @CAREGlobal: \"The climate crisis has a female face.\\n\\nAs a woman from Africa, I am often oppressed by racism, sexism, culture, classism,…   \n",
       "\n",
       "                                                                                                                    clean_text  \\\n",
       "0  [wantmymoneybac, love4thegameak, muslim, brothhood, write, goal, infiltrate, within, thanks, obama, best, 4, minute, spend]   \n",
       "1                               [rebeccah2020, chose, gretathunberg, stand, believe, child, yorkshire, school, chose, inspire]   \n",
       "2                               [rebeccah2020, chose, gretathunberg, stand, believe, child, yorkshire, school, chose, inspire]   \n",
       "3  [wantmymoneybac, love4thegameak, muslim, brothhood, write, goal, infiltrate, within, thanks, obama, best, 4, minute, spend]   \n",
       "4                [careglobal, climate, crisis, female, face, woman, africa, often, oppress, racism, sexism, culture, classism]   \n",
       "\n",
       "                                                                                                                                                         hypernym_text  \\\n",
       "0  [wantmymoneybac, love4thegameak, religious_person, brothhood, create_verbally, content, percolate, within, acknowledgment, obama, attempt, digit, time_unit, spend]   \n",
       "1                                              [rebeccah2020, decide, gretathunberg, support, accept, juvenile, yorkshire, educational_institution, decide, stimulate]   \n",
       "2                                              [rebeccah2020, decide, gretathunberg, support, accept, juvenile, yorkshire, educational_institution, decide, stimulate]   \n",
       "3  [wantmymoneybac, love4thegameak, religious_person, brothhood, create_verbally, content, percolate, within, acknowledgment, obama, attempt, digit, time_unit, spend]   \n",
       "4                 [careglobal, environmental_condition, situation, animal, external_body_part, adult, africa, often, oppress, bias, discrimination, society, classism]   \n",
       "\n",
       "                                                                                                                         word_embedding_text  \\\n",
       "0  [wantmymoneybac, love4thegameak, hyderabad, brothhood, tell, soulja, destroy, businessworld, despite, jessie, inspring, 5, soulja, spend]   \n",
       "1                                                [rebeccah2020, even, gretathunberg, soulja, think, young, yorkshire, school, even, inspire]   \n",
       "2                                                [rebeccah2020, even, gretathunberg, soulja, think, young, yorkshire, school, even, inspire]   \n",
       "3  [wantmymoneybac, love4thegameak, hyderabad, brothhood, tell, soulja, destroy, businessworld, despite, jessie, inspring, 5, soulja, spend]   \n",
       "4                             [careglobal, ecological, psyop, young, soulja, woma, europe, harmer, destroy, racism, racism, mindset, racism]   \n",
       "\n",
       "   score  word_embedding_scores  hypernymn_scores  \n",
       "0      1                     -1                -1  \n",
       "1     -1                      0                 0  \n",
       "2     -1                      0                 0  \n",
       "3      1                     -1                -1  \n",
       "4      0                      0                -1  "
      ]
     },
     "execution_count": 32,
     "metadata": {},
     "output_type": "execute_result"
    }
   ],
   "source": [
    "processed_df.head()"
   ]
  },
  {
   "cell_type": "code",
   "execution_count": 33,
   "metadata": {
    "colab": {},
    "colab_type": "code",
    "id": "5QPctcdzOtEJ"
   },
   "outputs": [],
   "source": [
    "final_df = open(\"final_df.pickle\",\"wb\")\n",
    "pickle.dump(processed_df, final_df)"
   ]
  },
  {
   "cell_type": "code",
   "execution_count": 34,
   "metadata": {
    "colab": {},
    "colab_type": "code",
    "id": "bkWbuPjLO10Q"
   },
   "outputs": [],
   "source": [
    "final_df = open(\"final_df.pickle\", \"rb\")\n",
    "processed_df = pickle.load(final_df)"
   ]
  },
  {
   "cell_type": "code",
   "execution_count": 35,
   "metadata": {
    "colab": {},
    "colab_type": "code",
    "id": "0ha0gXUZqUUm"
   },
   "outputs": [],
   "source": [
    "processed_df.to_csv(\"results.csv\", index=False)"
   ]
  },
  {
   "cell_type": "code",
   "execution_count": 37,
   "metadata": {
    "colab": {
     "base_uri": "https://localhost:8080/",
     "height": 860
    },
    "colab_type": "code",
    "executionInfo": {
     "elapsed": 836,
     "status": "ok",
     "timestamp": 1592407740639,
     "user": {
      "displayName": "Narendrakumar Hosamani",
      "photoUrl": "",
      "userId": "07851196596534242577"
     },
     "user_tz": -120
    },
    "id": "dZQKE7QQiyx2",
    "outputId": "80c365ca-5767-40c5-9de6-a428a34b28aa"
   },
   "outputs": [
    {
     "name": "stdout",
     "output_type": "stream",
     "text": [
      "date: 2020-03-09 13:50:23+00:00\n",
      "original_tweet: RT @WantMyMoneyBac: @love4thegameAK Muslim Brothhood written goal is to infiltrate from within. Thanks Obama.\n",
      "\n",
      "Best 4 minutes you’ll spend…\n",
      "processed_tweet: ['wantmymoneybac', 'love4thegameak', 'muslim', 'brothhood', 'write', 'goal', 'infiltrate', 'within', 'thanks', 'obama', 'best', '4', 'minute', 'spend']\n",
      "replaced_centroids_tweet: ['wantmymoneybac', 'love4thegameak', 'hyderabad', 'brothhood', 'tell', 'soulja', 'destroy', 'businessworld', 'despite', 'jessie', 'inspring', '5', 'soulja', 'spend']\n",
      "hypernymn_text: ['wantmymoneybac', 'love4thegameak', 'religious_person', 'brothhood', 'create_verbally', 'content', 'percolate', 'within', 'acknowledgment', 'obama', 'attempt', 'digit', 'time_unit', 'spend']\n",
      "sentiment_score: 1\n",
      "sentiment_score_with_embeddings: -1\n",
      "hypernymn_scores: -1 \n",
      "\n",
      "date: 2020-03-09 13:30:36+00:00\n",
      "original_tweet: RT @GretaThunberg: On March 13-14th there will be big mobilisations for the climate in France! I will join the climate strike in Grenoble o…\n",
      "processed_tweet: ['gretathunberg', 'march', '1314th', 'big', 'mobilisation', 'climate', 'france', 'join', 'climate', 'strike', 'grenoble']\n",
      "replaced_centroids_tweet: ['gretathunberg', 'protest', '1314th', 'significant', 'mobilisation', 'ecological', 'switzerland', 'partake', 'ecological', 'union', 'grenoble']\n",
      "hypernymn_text: ['gretathunberg', 'Gregorian_calendar_month', '1314th', 'big', 'assembly', 'environmental_condition', 'france', 'connection', 'environmental_condition', 'job_action', 'grenoble']\n",
      "sentiment_score: 1\n",
      "sentiment_score_with_embeddings: 0\n",
      "hypernymn_scores: -1 \n",
      "\n",
      "date: 2020-03-09 13:14:33+00:00\n",
      "original_tweet: RT @GretaThunberg: On March 13-14th there will be big mobilisations for the climate in France! I will join the climate strike in Grenoble o…\n",
      "processed_tweet: ['gretathunberg', 'march', '1314th', 'big', 'mobilisation', 'climate', 'france', 'join', 'climate', 'strike', 'grenoble']\n",
      "replaced_centroids_tweet: ['gretathunberg', 'protest', '1314th', 'significant', 'mobilisation', 'ecological', 'switzerland', 'partake', 'ecological', 'union', 'grenoble']\n",
      "hypernymn_text: ['gretathunberg', 'Gregorian_calendar_month', '1314th', 'big', 'assembly', 'environmental_condition', 'france', 'connection', 'environmental_condition', 'job_action', 'grenoble']\n",
      "sentiment_score: 1\n",
      "sentiment_score_with_embeddings: 0\n",
      "hypernymn_scores: -1 \n",
      "\n",
      "date: 2020-03-09 13:03:19+00:00\n",
      "original_tweet: RT @GretaThunberg: On March 13-14th there will be big mobilisations for the climate in France! I will join the climate strike in Grenoble o…\n",
      "processed_tweet: ['gretathunberg', 'march', '1314th', 'big', 'mobilisation', 'climate', 'france', 'join', 'climate', 'strike', 'grenoble']\n",
      "replaced_centroids_tweet: ['gretathunberg', 'protest', '1314th', 'significant', 'mobilisation', 'ecological', 'switzerland', 'partake', 'ecological', 'union', 'grenoble']\n",
      "hypernymn_text: ['gretathunberg', 'Gregorian_calendar_month', '1314th', 'big', 'assembly', 'environmental_condition', 'france', 'connection', 'environmental_condition', 'job_action', 'grenoble']\n",
      "sentiment_score: 1\n",
      "sentiment_score_with_embeddings: 0\n",
      "hypernymn_scores: -1 \n",
      "\n",
      "date: 2020-03-09 12:45:57+00:00\n",
      "original_tweet: RT @GretaThunberg: On March 13-14th there will be big mobilisations for the climate in France! I will join the climate strike in Grenoble o…\n",
      "processed_tweet: ['gretathunberg', 'march', '1314th', 'big', 'mobilisation', 'climate', 'france', 'join', 'climate', 'strike', 'grenoble']\n",
      "replaced_centroids_tweet: ['gretathunberg', 'protest', '1314th', 'significant', 'mobilisation', 'ecological', 'switzerland', 'partake', 'ecological', 'union', 'grenoble']\n",
      "hypernymn_text: ['gretathunberg', 'Gregorian_calendar_month', '1314th', 'big', 'assembly', 'environmental_condition', 'france', 'connection', 'environmental_condition', 'job_action', 'grenoble']\n",
      "sentiment_score: 1\n",
      "sentiment_score_with_embeddings: 0\n",
      "hypernymn_scores: -1 \n",
      "\n"
     ]
    }
   ],
   "source": [
    "for n in range(0,100,20):\n",
    "    print(\"date:\", processed_df[\"date\"][n] )\n",
    "    print(\"original_tweet:\", processed_df[\"text\"][n])\n",
    "    print(\"processed_tweet:\", processed_df[\"clean_text\"][n])\n",
    "    print(\"replaced_centroids_tweet:\", processed_df[\"word_embedding_text\"][n])\n",
    "    print(\"hypernymn_text:\", processed_df[\"hypernym_text\"][n])\n",
    "    print(\"sentiment_score:\", processed_df[\"score\"][n])\n",
    "    print(\"sentiment_score_with_embeddings:\", processed_df[\"word_embedding_scores\"][n])\n",
    "    print(\"hypernymn_scores:\", processed_df[\"hypernymn_scores\"][n],'\\n')"
   ]
  },
  {
   "cell_type": "code",
   "execution_count": 38,
   "metadata": {
    "colab": {
     "base_uri": "https://localhost:8080/",
     "height": 168
    },
    "colab_type": "code",
    "executionInfo": {
     "elapsed": 811,
     "status": "ok",
     "timestamp": 1592407746969,
     "user": {
      "displayName": "Narendrakumar Hosamani",
      "photoUrl": "",
      "userId": "07851196596534242577"
     },
     "user_tz": -120
    },
    "id": "jNo9Z1qt91g_",
    "outputId": "21a97e85-1e21-4fd6-9f8b-5e6eb9681212"
   },
   "outputs": [
    {
     "name": "stdout",
     "output_type": "stream",
     "text": [
      "comparing clean text scores with word embeding scores\n",
      " total tweets: 42848\n",
      " same score: 22642\n",
      " different score: 20206\n",
      "\n",
      "comparing clean text scores with hypernymn scores\n",
      " total tweets: 42848\n",
      " same score: 23151\n",
      " different score: 19697\n"
     ]
    }
   ],
   "source": [
    "length = len(processed_df)\n",
    "count = 0\n",
    "for i in range(len(processed_df)):\n",
    "    if(processed_df['score'][i] != processed_df['word_embedding_scores'][i]):\n",
    "        count+=1\n",
    "print(\"comparing clean text scores with word embeding scores\")\n",
    "print(\" total tweets: {}\\n same score: {}\\n different score: {}\\n\".format(length, length - count, count))\n",
    "\n",
    "hypernynm_count = 0\n",
    "for i in range(len(processed_df)):\n",
    "    if(processed_df['score'][i] != processed_df['hypernymn_scores'][i]):\n",
    "        hypernynm_count+=1\n",
    "print(\"comparing clean text scores with hypernymn scores\")\n",
    "print(\" total tweets: {}\\n same score: {}\\n different score: {}\".format(length, length - hypernynm_count, hypernynm_count))"
   ]
  },
  {
   "cell_type": "markdown",
   "metadata": {
    "colab_type": "text",
    "id": "NtaaRDgL5t6Q"
   },
   "source": [
    "## Visualization"
   ]
  },
  {
   "cell_type": "code",
   "execution_count": 39,
   "metadata": {
    "colab": {
     "base_uri": "https://localhost:8080/",
     "height": 286
    },
    "colab_type": "code",
    "executionInfo": {
     "elapsed": 6219,
     "status": "ok",
     "timestamp": 1592423315240,
     "user": {
      "displayName": "Narendrakumar Hosamani",
      "photoUrl": "",
      "userId": "07851196596534242577"
     },
     "user_tz": -120
    },
    "id": "2CAV-y9801Tu",
    "outputId": "a2e8c425-e675-4863-8f6e-d62a5ff3ac78"
   },
   "outputs": [
    {
     "name": "stdout",
     "output_type": "stream",
     "text": [
      "Collecting adjustText\n",
      "  Downloading adjustText-0.7.3.tar.gz (7.5 kB)\n",
      "Requirement already satisfied: numpy in c:\\users\\natha\\anaconda3\\lib\\site-packages (from adjustText) (1.18.1)\n",
      "Requirement already satisfied: matplotlib in c:\\users\\natha\\anaconda3\\lib\\site-packages (from adjustText) (3.1.3)\n",
      "Requirement already satisfied: python-dateutil>=2.1 in c:\\users\\natha\\anaconda3\\lib\\site-packages (from matplotlib->adjustText) (2.8.1)\n",
      "Requirement already satisfied: kiwisolver>=1.0.1 in c:\\users\\natha\\anaconda3\\lib\\site-packages (from matplotlib->adjustText) (1.1.0)\n",
      "Requirement already satisfied: pyparsing!=2.0.4,!=2.1.2,!=2.1.6,>=2.0.1 in c:\\users\\natha\\anaconda3\\lib\\site-packages (from matplotlib->adjustText) (2.4.6)\n",
      "Requirement already satisfied: cycler>=0.10 in c:\\users\\natha\\anaconda3\\lib\\site-packages (from matplotlib->adjustText) (0.10.0)\n",
      "Requirement already satisfied: six>=1.5 in c:\\users\\natha\\anaconda3\\lib\\site-packages (from python-dateutil>=2.1->matplotlib->adjustText) (1.14.0)\n",
      "Requirement already satisfied: setuptools in c:\\users\\natha\\anaconda3\\lib\\site-packages (from kiwisolver>=1.0.1->matplotlib->adjustText) (45.2.0.post20200210)\n",
      "Building wheels for collected packages: adjustText\n",
      "  Building wheel for adjustText (setup.py): started\n",
      "  Building wheel for adjustText (setup.py): finished with status 'done'\n",
      "  Created wheel for adjustText: filename=adjustText-0.7.3-py3-none-any.whl size=7104 sha256=eeb6ed3a7879c74b80557a0d2ba11f20558b4d76e90362daaa06ce33ac23f8f9\n",
      "  Stored in directory: c:\\users\\natha\\appdata\\local\\pip\\cache\\wheels\\2f\\98\\32\\afbf902d8f040fadfdf0a44357e4ab750afe165d873bf5893d\n",
      "Successfully built adjustText\n",
      "Installing collected packages: adjustText\n",
      "Successfully installed adjustText-0.7.3\n",
      "Note: you may need to restart the kernel to use updated packages.\n"
     ]
    }
   ],
   "source": [
    "pip install adjustText"
   ]
  },
  {
   "cell_type": "code",
   "execution_count": 40,
   "metadata": {
    "colab": {},
    "colab_type": "code",
    "executionInfo": {
     "elapsed": 968,
     "status": "ok",
     "timestamp": 1592423359019,
     "user": {
      "displayName": "Narendrakumar Hosamani",
      "photoUrl": "",
      "userId": "07851196596534242577"
     },
     "user_tz": -120
    },
    "id": "mObx3Ko11AFy"
   },
   "outputs": [],
   "source": [
    "from sklearn.manifold import TSNE\n",
    "import adjustText"
   ]
  },
  {
   "cell_type": "code",
   "execution_count": 41,
   "metadata": {
    "colab": {},
    "colab_type": "code",
    "executionInfo": {
     "elapsed": 692,
     "status": "ok",
     "timestamp": 1592423135290,
     "user": {
      "displayName": "Narendrakumar Hosamani",
      "photoUrl": "",
      "userId": "07851196596534242577"
     },
     "user_tz": -120
    },
    "id": "uie-_-Ukx1aX"
   },
   "outputs": [],
   "source": [
    "df = open(\"embeddings_df.pickle\", \"rb\")\n",
    "embeddings_df = pickle.load(df)"
   ]
  },
  {
   "cell_type": "code",
   "execution_count": 42,
   "metadata": {
    "colab": {},
    "colab_type": "code",
    "executionInfo": {
     "elapsed": 5516,
     "status": "ok",
     "timestamp": 1592423153362,
     "user": {
      "displayName": "Narendrakumar Hosamani",
      "photoUrl": "",
      "userId": "07851196596534242577"
     },
     "user_tz": -120
    },
    "id": "nZUf5AvFx5k-"
   },
   "outputs": [],
   "source": [
    "# Initialize t-SNE\n",
    "tsne = TSNE(n_components = 2, init = 'random', random_state = 10, perplexity = 100)\n",
    "\n",
    "# Use only 400 rows to shorten processing time\n",
    "tsne_df = tsne.fit_transform(embeddings_df[:400])"
   ]
  },
  {
   "cell_type": "code",
   "execution_count": 43,
   "metadata": {
    "colab": {
     "base_uri": "https://localhost:8080/",
     "height": 500
    },
    "colab_type": "code",
    "executionInfo": {
     "elapsed": 6828,
     "status": "ok",
     "timestamp": 1592423466234,
     "user": {
      "displayName": "Narendrakumar Hosamani",
      "photoUrl": "",
      "userId": "07851196596534242577"
     },
     "user_tz": -120
    },
    "id": "yC970Q8L0Ss8",
    "outputId": "491d04b9-aec4-4504-80e7-043a8b98085c"
   },
   "outputs": [
    {
     "data": {
      "image/png": "[encoded data removed]",
      "text/plain": [
       "<Figure size 842.4x595.44 with 1 Axes>"
      ]
     },
     "metadata": {},
     "output_type": "display_data"
    }
   ],
   "source": [
    "sns.set()\n",
    "# Initialize figure\n",
    "fig, ax = plt.subplots(figsize = (11.7, 8.27))\n",
    "sns.scatterplot(tsne_df[:, 0], tsne_df[:, 1], alpha = 0.5)\n",
    "\n",
    "# Import adjustText, initialize list of texts\n",
    "from adjustText import adjust_text\n",
    "texts = []\n",
    "words_to_plot = list(np.arange(0, 400, 10))\n",
    "\n",
    "# Append words to list\n",
    "for word in words_to_plot:\n",
    "    texts.append(plt.text(tsne_df[word, 0], tsne_df[word, 1], embeddings_df.index[word], fontsize = 14))\n",
    "    \n",
    "# Plot text using adjust_text (because overlapping text is hard to read)\n",
    "adjust_text(texts, force_points = 0.4, force_text = 0.4, \n",
    "            expand_points = (2,1), expand_text = (1,2),\n",
    "            arrowprops = dict(arrowstyle = \"-\", color = 'black', lw = 0.5))\n",
    "\n",
    "plt.show()"
   ]
  },
  {
   "cell_type": "code",
   "execution_count": 46,
   "metadata": {},
   "outputs": [
    {
     "name": "stdout",
     "output_type": "stream",
     "text": [
      "Collecting wordcloud\n",
      "  Downloading wordcloud-1.7.0-cp37-cp37m-win_amd64.whl (157 kB)\n",
      "Requirement already satisfied: matplotlib in c:\\users\\natha\\anaconda3\\lib\\site-packages (from wordcloud) (3.1.3)\n",
      "Requirement already satisfied: numpy>=1.6.1 in c:\\users\\natha\\anaconda3\\lib\\site-packages (from wordcloud) (1.18.1)\n",
      "Requirement already satisfied: pillow in c:\\users\\natha\\anaconda3\\lib\\site-packages (from wordcloud) (7.0.0)\n",
      "Requirement already satisfied: pyparsing!=2.0.4,!=2.1.2,!=2.1.6,>=2.0.1 in c:\\users\\natha\\anaconda3\\lib\\site-packages (from matplotlib->wordcloud) (2.4.6)\n",
      "Requirement already satisfied: kiwisolver>=1.0.1 in c:\\users\\natha\\anaconda3\\lib\\site-packages (from matplotlib->wordcloud) (1.1.0)\n",
      "Requirement already satisfied: python-dateutil>=2.1 in c:\\users\\natha\\anaconda3\\lib\\site-packages (from matplotlib->wordcloud) (2.8.1)\n",
      "Requirement already satisfied: cycler>=0.10 in c:\\users\\natha\\anaconda3\\lib\\site-packages (from matplotlib->wordcloud) (0.10.0)\n",
      "Requirement already satisfied: setuptools in c:\\users\\natha\\anaconda3\\lib\\site-packages (from kiwisolver>=1.0.1->matplotlib->wordcloud) (45.2.0.post20200210)\n",
      "Requirement already satisfied: six>=1.5 in c:\\users\\natha\\anaconda3\\lib\\site-packages (from python-dateutil>=2.1->matplotlib->wordcloud) (1.14.0)\n",
      "Installing collected packages: wordcloud\n",
      "Successfully installed wordcloud-1.7.0\n",
      "Note: you may need to restart the kernel to use updated packages.\n"
     ]
    }
   ],
   "source": [
    "pip install wordcloud"
   ]
  },
  {
   "cell_type": "code",
   "execution_count": 47,
   "metadata": {
    "colab": {},
    "colab_type": "code",
    "executionInfo": {
     "elapsed": 951,
     "status": "ok",
     "timestamp": 1592423623942,
     "user": {
      "displayName": "Narendrakumar Hosamani",
      "photoUrl": "",
      "userId": "07851196596534242577"
     },
     "user_tz": -120
    },
    "id": "PSQ-1ZuR2CJe"
   },
   "outputs": [],
   "source": [
    "from wordcloud import WordCloud"
   ]
  },
  {
   "cell_type": "code",
   "execution_count": 48,
   "metadata": {
    "colab": {
     "base_uri": "https://localhost:8080/",
     "height": 380
    },
    "colab_type": "code",
    "executionInfo": {
     "elapsed": 3710,
     "status": "ok",
     "timestamp": 1592424549124,
     "user": {
      "displayName": "Narendrakumar Hosamani",
      "photoUrl": "",
      "userId": "07851196596534242577"
     },
     "user_tz": -120
    },
    "id": "rItXm-jr4Q_K",
    "outputId": "bc5bfc7e-a7b2-4325-c979-e7f334250cb7"
   },
   "outputs": [
    {
     "data": {
      "image/png": "[encoded data removed]",
      "text/plain": [
       "<Figure size 720x504 with 1 Axes>"
      ]
     },
     "metadata": {},
     "output_type": "display_data"
    }
   ],
   "source": [
    "all_words = \" \".join([\" \".join(text) for text in processed_df['clean_text']])\n",
    "\n",
    "# text = \" \".join(processed_df['clean_text'][0])\n",
    "\n",
    "# Create and generate a word cloud image:\n",
    "# wordcloud = WordCloud().generate(text)\n",
    "wordcloud = WordCloud(width=800, height=500, random_state=21, max_font_size=110).generate(all_words)\n",
    "\n",
    "# Display the generated image:\n",
    "plt.figure(figsize=(10, 7))\n",
    "plt.imshow(wordcloud, interpolation=\"bilinear\")\n",
    "plt.axis('off')\n",
    "plt.show()\n",
    "\n",
    "\n"
   ]
  },
  {
   "cell_type": "code",
   "execution_count": null,
   "metadata": {},
   "outputs": [],
   "source": []
  }
 ],
 "metadata": {
  "colab": {
   "authorship_tag": "ABX9TyOQ0pRFHwig/xr1cjP8F4vW",
   "collapsed_sections": [
    "qdualDrQYEB1"
   ],
   "mount_file_id": "1OdKdzS8JW90Pn4rwX9su50UPPmfn4rk9",
   "name": "ScrapBook.ipynb",
   "provenance": []
  },
  "kernelspec": {
   "display_name": "Python 3",
   "language": "python",
   "name": "python3"
  },
  "language_info": {
   "codemirror_mode": {
    "name": "ipython",
    "version": 3
   },
   "file_extension": ".py",
   "mimetype": "text/x-python",
   "name": "python",
   "nbconvert_exporter": "python",
   "pygments_lexer": "ipython3",
   "version": "3.7.6"
  }
 },
 "nbformat": 4,
 "nbformat_minor": 1
}
